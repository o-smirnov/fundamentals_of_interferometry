{
 "cells": [
  {
   "cell_type": "markdown",
   "metadata": {},
   "source": [
    "***\n",
    "\n",
    "* [Outline](../0_Introduction/0_introduction.ipynb)\n",
    "* [Glossary](../0_Introduction/1_glossary.ipynb)\n",
    "* [1. Radio Science using Interferometric Arrays](01_00_introduction.ipynb)  \n",
    "    * Previous: [1.6 Synchrotron emission](01_06_synchrotron_emission.ipynb)\n",
    "    * Next: [1.8 Astronomical radio sources](01_08_astronomical_radio_sources.ipynb)\n",
    "   \n",
    "***"
   ]
  },
  {
   "cell_type": "markdown",
   "metadata": {
    "collapsed": true
   },
   "source": [
    "Import standard modules:"
   ]
  },
  {
   "cell_type": "code",
   "execution_count": null,
   "metadata": {
    "collapsed": false
   },
   "outputs": [],
   "source": [
    "import numpy as np\n",
    "import matplotlib.pyplot as plt\n",
    "%matplotlib inline\n",
    "from IPython.display import HTML \n",
    "HTML('../style/course.css') #apply general CSS"
   ]
  },
  {
   "cell_type": "markdown",
   "metadata": {
    "collapsed": true
   },
   "source": [
    "Import section specific modules:"
   ]
  },
  {
   "cell_type": "code",
   "execution_count": null,
   "metadata": {
    "collapsed": true
   },
   "outputs": [],
   "source": [
    "pass"
   ]
  },
  {
   "cell_type": "markdown",
   "metadata": {},
   "source": [
    "## 1.7. Line emission<a id='science:sec:line_emission'></a>"
   ]
  },
  {
   "cell_type": "markdown",
   "metadata": {},
   "source": [
    "Broad spectrum sources appear to lose or gain energy at specific frequencies due to atomic transition processes from one quasi-discrete energy level to another. Since the energy levels are well defined, and the energy is connected to the frequency of the emitted photons via $E\\,=\\,h\\nu$, where $h$ denotes Planck's constant ($h\\,=\\,6.626070040(81)\\cdot 10^{-34}\\,{\\rm J}\\,{\\rm s}$), the transition occurs at a well defined frequency and lead to a sharp increase or drop in intensity at that frequency. The signature of an atomic transition (in absorption or emission) is called a \"line\" and the phenomenon is called *line emission*."
   ]
  },
  {
   "cell_type": "markdown",
   "metadata": {},
   "source": [
    "In [$\\S$ 1.3 &#10142;](01_03_radiation_transport.ipynb#) <!--\\ref{science:sec:radiative_transport}--> we discussed how radiation is propagating through space for given macroscopic quantities, the linear emission coefficient $\\varepsilon_\\nu$ and the linear absorption coefficient $\\kappa_\\nu$. It is possible to connect both to the so-called Einstein coefficients, which describe the transition probabilities due to the atomic processes of spontaneous and stimulated emission and absorption of photons."
   ]
  },
  {
   "cell_type": "markdown",
   "metadata": {},
   "source": [
    "* $A_{21}$: Einstein coefficient for spontaneous emission for a transition from atomic level 2 (higher energy) to level 1 (lower energy)\n",
    "* $B_{21}$: Einstein coefficient for induced emission for a transition from atomic level 2 (higher energy) to level 1 (lower engergy)\n",
    "* $B_{12}$: Einstein coefficient for photoabsorption for a transition from atomic level 1 (lower energy) to level 2 (higher energy)."
   ]
  },
  {
   "cell_type": "markdown",
   "metadata": {},
   "source": [
    "They are connected via"
   ]
  },
  {
   "cell_type": "markdown",
   "metadata": {},
   "source": [
    "<a id='science:eq:07_001'></a><!--\\label{science:eq:07_001}-->$$\n",
    "\\begin{align}\n",
    "    g_1 B_{12} \\,&=\\, g_2 B_{21}\\\\\n",
    "    A_{21}\\,&=\\,\\frac{8\\pi h\\nu_0^3}{c^3}\\,B_{21}\n",
    "    \\qquad ,\\\\\n",
    "\\end{align}\n",
    "$$"
   ]
  },
  {
   "cell_type": "markdown",
   "metadata": {},
   "source": [
    "where $g_1$ and $g_2$ are the statistical weights of the energy state (in the presence of degenerated energy states, these are larger than 1), $\\nu_0$ is the central frequency of the transition ($\\bar{E}_{12}\\,=\\,h\\nu_0$), and c is the speed of light ($c\\,=\\,299\\,792\\,458\\,{\\rm m}\\,{\\rm s}^{-1}$). Finally, defining a profile function $\\varphi(\\nu)$ with $\\int \\varphi\\,d\\nu\\,=\\,1$ and $\\int\\ \\nu\\,\\varphi\\,d\\nu\\,=\\,\\nu_0$ (basically describing the line broadening due to a slight unsharpness of the line), it is possible to describe the absorption and emission coefficients as functions of microscopic parameters, if the volume density of atoms $N_1$ in state 1 or $N_2$ in state 2 is known."
   ]
  },
  {
   "cell_type": "markdown",
   "metadata": {},
   "source": [
    "<a id='science:eq:07_002'></a><!--\\label{science:eq:07_002}-->$$\n",
    "\\begin{align}\n",
    "    \\kappa_\\nu \\,&=\\, \\frac{h\\nu_0}{c}N_1\\,B_{12}\\left(1-\\frac{g_1\\,N_2}{g_2\\,N_1}\\right)\\varphi(\\nu)\\\\\n",
    "       \\varepsilon_\\nu \\,&=\\, \\frac{h\\nu_0}{4\\pi}N_2\\,A_{21}\\varphi(\\nu)\n",
    "    \\qquad .\\\\\n",
    "\\end{align}\n",
    "$$"
   ]
  },
  {
   "cell_type": "markdown",
   "metadata": {},
   "source": [
    "Under the condition of Local Thermal Equilibrium with \"spin\" temperature $T$, the ratio of $N_2$ and $N_1$ is known to be"
   ]
  },
  {
   "cell_type": "markdown",
   "metadata": {},
   "source": [
    "<a id='science:eq:07_003'></a><!--\\label{science:eq:07_003}-->$$\n",
    "\\begin{align}\n",
    "    \\frac{N_2}{N_1}\\,&=\\,\\frac{g_2}{g_1}e^{-\\frac{h\\nu}{kT}}   \\qquad ,\\\\\n",
    "\\end{align}\n",
    "$$"
   ]
  },
  {
   "cell_type": "markdown",
   "metadata": {},
   "source": [
    "which can be used to determine $\\varepsilon_\\nu$ and $\\kappa_\\nu$ from the population density of atoms in state 1 or 2. Consequent evaluation of above formulae and identification of extragalactic lines with certain atomic or molecular transitions can be used to learn about the state of the insterstellar gas in general."
   ]
  },
  {
   "cell_type": "markdown",
   "metadata": {},
   "source": [
    "For details we refer to the book [<cite data-cite=''>Tools of Radio Astronomy </cite> &#10548;](http://adsabs.harvard.edu/abs/2012tra..book.....W), the above equations are basically an excerpt."
   ]
  },
  {
   "cell_type": "markdown",
   "metadata": {},
   "source": [
    "### 1.7.1 Atomic hydrogen<a id='science:sec:atomic_hydrogen'></a>"
   ]
  },
  {
   "cell_type": "markdown",
   "metadata": {},
   "source": [
    "Atomic hydrogen is a transition state from the hot, ionized hydrogen to the molecular hydrogen gas in galaxies. As hydrogen is the most abundant element in the universe, atomic hydrogen $\\rm H\\,{\\scriptsize\\rm{I}}$ is abundant line emission in the universe. It can mostly be observed in galaxies where active star formation (using hydrogen gas) takes place, i.e. spiral galaxies, although it is of course also important to know under which circumstances it occurs elsewhere."
   ]
  },
  {
   "cell_type": "markdown",
   "metadata": {},
   "source": [
    "Neutral hydrogen emits in the radio regime through a hyperfine transition of the total angular momentum of the ground state neutral hydrogen atom F=1 (electronic quantum number $n\\,=\\,1$, orbital angular momentum of electrons $L\\,=\\,0$, electron spin $S\\,=\\,1/2$, total electron angular momentum $J = L+S = 1/2$, nuclear spin $I\\,=\\,1/2$, the total spin F quntum number can hence be 0 or 1).The transition frequency is $1.420\\,405\\,751\\,786\\cdot 10^9 {\\rm Hz}$ and the Einstein coefficient for spontaneous emission is $A_{10}\\,=\\,2.86888\\cdot 10^{-15}\\,{\\rm s}^{-1}$. The spontaneous mean half-life time of the state in which both proton and electron have the same spin direction is $1.11\\cdot10^{7} yr$. This means that the excitation state of atoms in neutral hydrogen clouds is almost always determined by collisional excitation."
   ]
  },
  {
   "cell_type": "markdown",
   "metadata": {},
   "source": [
    "The low transition probability results in many cases in an optically thin structure of neutral hydrogen clouds."
   ]
  },
  {
   "cell_type": "markdown",
   "metadata": {},
   "source": [
    "Defining the radio velocity $V_{\\rm radio}$, which is an approximation to the recession velocity of the gas particles as caused by the Doppler Shift"
   ]
  },
  {
   "cell_type": "markdown",
   "metadata": {},
   "source": [
    "<a id='science:eq:07_004'></a><!--\\label{science:eq:07_004}-->$$\n",
    "\\begin{align}\n",
    "    \\frac{V_{\\rm radio}(\\nu)}{c}\\,&=\\,\\frac{\\nu_0-\\nu}{\\nu_0}   \\qquad ,\\\\\n",
    "\\end{align}\n",
    "$$"
   ]
  },
  {
   "cell_type": "markdown",
   "metadata": {},
   "source": [
    "one can, under the assumption of local thermodynamic equilibrium (LTE) and a constant \"spin\" temperature $T_{\\rm spin}$ derive the column density from the optical depth"
   ]
  },
  {
   "cell_type": "markdown",
   "metadata": {},
   "source": [
    "<a id='science:eq:07_005'></a><!--\\label{science:eq:07_005}-->$$\n",
    "\\begin{align}\n",
    "    \\frac{N_{\\rm H\\,\\scriptsize I}}{{\\rm atoms} \\,{\\rm cm}^{-2}}\\,=\\,1.823\\cdot10^{18}\\cdot\\frac{T_{\\rm spin}}{\\rm K}\\int \\tau_\\nu(V_{\\rm radio})\\,\\frac{dV_{\\rm radio}}{\\rm km\\,s^{-1}}\\qquad ,\\\\\n",
    "\\end{align}\n",
    "$$"
   ]
  },
  {
   "cell_type": "markdown",
   "metadata": {},
   "source": [
    "which reduces in the optically thin case to"
   ]
  },
  {
   "cell_type": "markdown",
   "metadata": {},
   "source": [
    "<a id='science:eq:07_006'></a><!--\\label{science:eq:07_006}-->$$\n",
    "\\begin{align}\n",
    "    \\frac{N_{\\rm H\\,\\scriptsize I}}{{\\rm atoms} \\,{\\rm cm}^{-2}}\\,=\\,1.823\\cdot10^{18}\\int \\frac{T_{\\rm b}}{\\rm K}\\,\\frac{dV_{\\rm radio}}{\\rm km\\,s^{-1}}\\qquad ,\\\\\n",
    "\\end{align}\n",
    "$$"
   ]
  },
  {
   "cell_type": "markdown",
   "metadata": {},
   "source": [
    "with $T_{\\rm b}$ being the brightness temperature (see [$\\S$ 1.5.1 &#10142;](01_05_black_body_radiation.ipynb#science:sec:blackbody_emission) <!--\\ref{science:sec:blackbody_emission}--> ). It is hence rather simple to derive column densities or masses of neutral-hydrogen clouds. The full apparatus of this will be developed at another place. Especially in the case of extragalactic sources, galaxies external to our own galaxy, high angular resolution has become an important ingredient for the study of galaxy evolution, making the use of interferometric imaging indispensible."
   ]
  },
  {
   "cell_type": "markdown",
   "metadata": {},
   "source": [
    "An important feature of line emission in general is the sharpness of the line. Making use of the Doppler effect, the observation of line emission enables the observer to trace the recession velocity of the observed gas. This has been extremely important in the context of the $\\rm H\\,{\\scriptsize\\rm{I}}$ line, as it enabled astronomers not only to trace the location of gas in galaxies but also their kinematics, in the 1980 leading to the proof of the existence of Dark Matter in spiral galaxies."
   ]
  },
  {
   "cell_type": "markdown",
   "metadata": {},
   "source": [
    "### 1.7.1 Other line emission<a id='science:sec:other_line_emission'></a>"
   ]
  },
  {
   "cell_type": "markdown",
   "metadata": {},
   "source": [
    "In the radio regime several other emission lines are often observed.\n",
    "* Radio recombination lines are high-level transition lines of electrons captured by an atom.\n",
    "* Molecular lines are transitions of rotational or vibratonal excitation states, and can be used to trace the cold interstellar medium.\n",
    "\n",
    "A comprehensive discussion of radio lines is impossible in a book concentrating on observational methods. We hence leave it to the reader to learn more about the astronomical side of radio line astronomy at a different place."
   ]
  },
  {
   "cell_type": "markdown",
   "metadata": {
    "collapsed": true
   },
   "source": [
    "***\n",
    "\n",
    "* Next:[1.8 Astronomical radio sources](01_08_astronomical_radio_sources.ipynb)"
   ]
  },
  {
   "cell_type": "markdown",
   "metadata": {},
   "source": [
    "<div class=warn><b>Future Additions:</b></div>\n",
    "\n",
    "* example: spectrum figure pointing out prominent emission and absorption features\n",
    "* expand on what causes broadening: natural, doppler, pressure\n",
    "* example: plot figure of the galactic HI velocity curve"
   ]
  }
 ],
 "metadata": {
  "kernelspec": {
   "display_name": "Python 2",
   "language": "python",
   "name": "python2"
  },
  "language_info": {
   "codemirror_mode": {
    "name": "ipython",
    "version": 2
   },
   "file_extension": ".py",
   "mimetype": "text/x-python",
   "name": "python",
   "nbconvert_exporter": "python",
   "pygments_lexer": "ipython2",
   "version": "2.7.6"
  }
 },
 "nbformat": 4,
 "nbformat_minor": 0
}

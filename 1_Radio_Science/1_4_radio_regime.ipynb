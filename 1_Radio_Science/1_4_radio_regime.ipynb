{
 "cells": [
  {
   "cell_type": "markdown",
   "metadata": {},
   "source": [
    "***\n",
    "\n",
    "* [Outline](../0_Introduction/0_introduction.ipynb)\n",
    "* [Glossary](../0_Introduction/1_glossary.ipynb)\n",
    "* [1. Radio Science using Interferometric Arrays](01_00_introduction.ipynb)\n",
    "    * Previous: [1.3 Radiation transport](01_03_radiation_transport.ipynb)\n",
    "    * Next: [1.5 Black body radiation](01_05_black_body_radiation.ipynb) \n",
    "\n",
    "***"
   ]
  },
  {
   "cell_type": "markdown",
   "metadata": {},
   "source": [
    "Import standard modules:"
   ]
  },
  {
   "cell_type": "code",
   "execution_count": null,
   "metadata": {
    "collapsed": false
   },
   "outputs": [],
   "source": [
    "import numpy as np\n",
    "import matplotlib.pyplot as plt\n",
    "%matplotlib inline\n",
    "from IPython.display import HTML \n",
    "HTML('../style/course.css') #apply general CSS"
   ]
  },
  {
   "cell_type": "markdown",
   "metadata": {},
   "source": [
    "Import section specific modules:"
   ]
  },
  {
   "cell_type": "code",
   "execution_count": null,
   "metadata": {
    "collapsed": true
   },
   "outputs": [],
   "source": [
    "from IPython.display import Image"
   ]
  },
  {
   "cell_type": "markdown",
   "metadata": {
    "collapsed": true
   },
   "source": [
    "## 1.4 Radio Regime<a id='science:sec:radio_regime'></a>"
   ]
  },
  {
   "cell_type": "markdown",
   "metadata": {},
   "source": [
    "All of us are familiar with the night sky. In fact, when we think of astronomy, the first picture that comes to mind is that of the star-strewn sky (with a few planets thrown in). People looking at less light-poluted skies are also able to make out details such as the milky band of our own galaxy. \n",
    "\n",
    "We must remember that this view of the sky is a results of the natural limits of our vision - we can only perceive radiation in a narrow range in wavelength. We can't see beyond infrared or ultraviolet frequencies. This is the reason the earliest advances in astronomy were in visible range - the branch of astronomy known as optical astronomy.\n",
    "\n",
    "However, over time we have been successful in sampling a large range of the electromagnetic spectrum. On one end is Gamma-ray astronomy, where individual photons have much larger energy than those in the visible range (and correspondingly much higher frequency) but far fewer numbers. On the other end is radio astronomy, where the photons are plentiful, but their individual energy is much smaller, with much smaller frequency than those in the visible range. \n",
    "\n",
    "The sky at radio frequencies is very different from that at the optical frequncies. Let us take the example of Cygnus A, which is the brightest extragalactic radio source. It is about ~ 230 Mpc (where $1$ Mpc = $10^6$ pc = $3.08\\times10^{18}$ m, parsec, denoted by 'pc' is the distance unit of choice for astronomers) away from us. In optical, we see what may seem as a typical sky-field with stars and galaxies:"
   ]
  },
  {
   "cell_type": "code",
   "execution_count": null,
   "metadata": {
    "collapsed": false
   },
   "outputs": [],
   "source": [
    "Image(filename='figures/cyg_A_optical.png', width=500)"
   ]
  },
  {
   "cell_type": "markdown",
   "metadata": {},
   "source": [
    "**Figure 1.2.3.2**: Sky in the direction of Cygnus A in optical frequencies. Credits: [Digitized Sky Survey &#10548;](https://archive.stsci.edu/dss/acknowledging.html)<a id='science:fig:cyg_a_comp'></a> <!--\\label{science:fig:cyg_a_comp}-->"
   ]
  },
  {
   "cell_type": "markdown",
   "metadata": {
    "collapsed": true
   },
   "source": [
    "If we look at it at radio frequencies, however, we see much more detail:"
   ]
  },
  {
   "cell_type": "code",
   "execution_count": null,
   "metadata": {
    "collapsed": false
   },
   "outputs": [],
   "source": [
    "Image(filename='figures/cyg_A_composite.png', width=500)"
   ]
  },
  {
   "cell_type": "markdown",
   "metadata": {},
   "source": [
    "**Figure 1.2.3.2**: Cygnus A, radio and optical view. <a id='science:fig:cyg_a_comp'></a> <!--\\label{science:fig:cyg_a_comp}-->"
   ]
  },
  {
   "cell_type": "markdown",
   "metadata": {},
   "source": [
    "The above image is an example of what are called composite images. These are images formed by combining two or more images, generally from different parts of the electromagnetic spectrum. In this example we have combined what we see in radio as well as optical frequencies. The object seen in the radio is Cygnus A, a radio galaxy (the closest such object to us). These are huge objects, generated through the activity happening at the centre of a galaxy, through the agency of a supermassive black hole. The latter creates the jets going in opposite directions to create large blobs of plasma called lobes, which radiate at radio frequncies - and are invisible in other parts of the electromagnetic spectrum. These objects are of cosmological importance; they affect the process of cosmological structure formation at various scales and as such are of great importance in our understanding of the Cosmos. "
   ]
  },
  {
   "cell_type": "markdown",
   "metadata": {},
   "source": [
    "Another noteworthy case might be that of the M81 system. This is system of three galaxies which form a group (which means they are gravitationally bound). But the extent of the interaction among the group is not clear until one takes a peek at them at radio frequencies:"
   ]
  },
  {
   "cell_type": "code",
   "execution_count": null,
   "metadata": {
    "collapsed": false
   },
   "outputs": [],
   "source": [
    "Image(filename='figures/m81-nature.png', width=500)"
   ]
  },
  {
   "cell_type": "markdown",
   "metadata": {},
   "source": [
    "**Figure 1.2.3.3**: On right is the optical view of the M81 system, on left the radio one. <a id='science:fig:m81'></a> <!--\\label{science:fig:m81}-->"
   ]
  },
  {
   "cell_type": "markdown",
   "metadata": {},
   "source": [
    "In the radio image the bridges containing the three galaxies are clearly visible. This does not show up in optical because the gas which forms the bridge does not emit radiation in optical bands. A similar case is that of the rotation curves. Rotation curves are plots of orbital velocities of stuff in a galaxy, against the radial distance from the centre of the galaxy. The idea is to use the orbital velocity to infer the mass in the galaxy inside the particular radius (we expect $v \\propto r^{-1/2}$, in case all the mass is already enclosed inside the radius). In fact, we would expect the orbital velocity to decrease beyond the visible disk, since most of the mass would be inside the radius of the disk. However, in practice we do not see the expected behaviour for the rotation curves- indicating that not all the mass is enclosed within the visible disk. Radio observations of the neutral hydrogen gas, which extends far beyond the visible extent of the galaxy, allow us to trace the rotation curve to large radii. The figure below (courtesy of : https://en.wikipedia.org/wiki/Galaxy_rotation_curve) illustrates the measurements through 'optical' (stars) and 'radio' (21 cm) measurements:"
   ]
  },
  {
   "cell_type": "code",
   "execution_count": null,
   "metadata": {
    "collapsed": false
   },
   "outputs": [],
   "source": [
    "Image(filename='figures/M33_rotation_curve_HI.png', width=500)"
   ]
  },
  {
   "cell_type": "markdown",
   "metadata": {},
   "source": [
    "These observations were some of the first evidence indicating the presence of 'dark matter' (most of the matter in the Universe is believed to be dark matter), and observations in the radio regime played a crucial part."
   ]
  },
  {
   "cell_type": "markdown",
   "metadata": {},
   "source": [
    "Now that we have seen that the radio regime is indeed a window to new and exciting (and important) aspects of astronomy, let us take a look at the part of the electromagnetic spectrum which is generally available for radio astronomy. With ground-based observations (the overwhelming majority of telescopes in radio regime are these), we are limited by Earth's atmosphere. The figure below indicates the situation (courtesy of : https://en.wikipedia.org/wiki/Radio_telescope):"
   ]
  },
  {
   "cell_type": "code",
   "execution_count": null,
   "metadata": {
    "collapsed": false
   },
   "outputs": [],
   "source": [
    "Image(filename='figures/Atmospheric_electromagnetic_transmittance_or_opacity.jpg', width=500)"
   ]
  },
  {
   "cell_type": "markdown",
   "metadata": {},
   "source": [
    "So the 'radio window' extends from about $10$ MHz (about $30$ m) to $1$ THz (about $0.3$ mm), where it starts going into the infrared regime. At the high-frequency range, the absorption of radio waves by molecules like water vapour, $CO_{2}$ etc. limits the radio observations. At the low frequncy range, most of the radiation is reflected by the free electrons in the ionosphere.\n",
    "\n",
    "The available radio window is divided into many 'bands'. The nomenclature of these bands is to some extent historic and can be a cause of confusion initially (e.g. people may refer to 'L band observations', what they mean is 'observations at ~ $1 - 2 $ GHz' ). Some of the typical bands are listed below:\n",
    "\n",
    "| Band    |  Frequency (GHz) |\n",
    "|------------|-------------:|\n",
    "|P|0.23 - 0.47|\n",
    "| L          |  1 - 2| \n",
    "| S          |  2 - 4|\n",
    "|C           |  4 - 8|\n",
    "|X           |  8 - 12|\n",
    "|Ku          |12 - 18|\n",
    "|K           |19 - 26.5 |\n",
    "|Ka          |26.5 - 40.0          |\n",
    "|Q           |40.0 - 50.0    |\n",
    "\n",
    "(Taken from https://science.nrao.edu/facilities/vla/docs/manuals/oss2013b/performance/bands)"
   ]
  },
  {
   "cell_type": "markdown",
   "metadata": {},
   "source": [
    "**Table 1.2.3.1**: Typical Radio Astronomy Observation Bands. <a id='science:tab:bands'></a> <!--\\label{science:tab:bands}-->"
   ]
  },
  {
   "cell_type": "markdown",
   "metadata": {},
   "source": [
    "In the next sections, we'll discuss a few of the different physical mechanisms through which we get the radiation in radio regime, starting with an example of thermal radiation."
   ]
  },
  {
   "cell_type": "markdown",
   "metadata": {
    "collapsed": true
   },
   "source": [
    "***\n",
    "\n",
    "* Next: [1.5 Black body radiation](01_05_black_body_radiation.ipynb) "
   ]
  }
 ],
 "metadata": {
  "kernelspec": {
   "display_name": "Python 2",
   "language": "python",
   "name": "python2"
  },
  "language_info": {
   "codemirror_mode": {
    "name": "ipython",
    "version": 2
   },
   "file_extension": ".py",
   "mimetype": "text/x-python",
   "name": "python",
   "nbconvert_exporter": "python",
   "pygments_lexer": "ipython2",
   "version": "2.7.6"
  }
 },
 "nbformat": 4,
 "nbformat_minor": 0
}

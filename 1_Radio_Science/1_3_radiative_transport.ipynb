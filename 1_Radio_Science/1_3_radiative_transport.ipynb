{
 "cells": [
  {
   "cell_type": "markdown",
   "metadata": {},
   "source": [
    "***\n",
    "\n",
    "* [Outline](../0_Introduction/0_introduction.ipynb)\n",
    "* [Glossary](../0_Introduction/1_glossary.ipynb)\n",
    "* [1. Radio Science using Interferometric Arrays](01_00_introduction.ipynb)  \n",
    "    * Previous: [1.2 Electromagnetic radiation and astronomical quantities](01_02_electromagnetic_radiation_and_astronomical_quantities.ipynb)\n",
    "    * Next: [1.4 Radio regime](01_04_radio_regime.ipynb)\n",
    "\n",
    "***"
   ]
  },
  {
   "cell_type": "markdown",
   "metadata": {},
   "source": [
    "Import standard modules:"
   ]
  },
  {
   "cell_type": "code",
   "execution_count": null,
   "metadata": {
    "collapsed": true
   },
   "outputs": [],
   "source": [
    "import numpy as np\n",
    "import matplotlib.pyplot as plt\n",
    "%matplotlib inline\n",
    "from IPython.display import HTML \n",
    "HTML('../style/course.css') #apply general CSS"
   ]
  },
  {
   "cell_type": "markdown",
   "metadata": {},
   "source": [
    "Import section specific modules:"
   ]
  },
  {
   "cell_type": "code",
   "execution_count": 2,
   "metadata": {
    "collapsed": true
   },
   "outputs": [],
   "source": [
    "from IPython.display import Image"
   ]
  },
  {
   "cell_type": "code",
   "execution_count": null,
   "metadata": {
    "collapsed": true
   },
   "outputs": [],
   "source": [
    "pass"
   ]
  },
  {
   "cell_type": "markdown",
   "metadata": {
    "collapsed": false
   },
   "source": [
    "## 1.3. Radiative transport<a id='science:sec:radiative_transport'></a>"
   ]
  },
  {
   "cell_type": "markdown",
   "metadata": {},
   "source": [
    "In this chapter we briefly review the simplest form of a mathematical treatment of the the propagation of electromagnetic radiation through a medium, in which radiation gets absorbed, but also generated. While the concept is very simple, it is also very fundamental and should not miss in a brief overview of astronomial quantities."
   ]
  },
  {
   "cell_type": "markdown",
   "metadata": {},
   "source": [
    "In the previous chapter, we have discussed that the Intensity is independent of the distance to a source as long as no emission is generated or absorbed. On its way to the observer along a path *s*, a radiative bundle may gain in intensity or loose in intensity. The *loss* of intensity is generally proportional to the intensity itself (imagine an absorption probability for radiation). In a medium, along an infinitesimal path length $ds$, $I_\\nu$ looses a fraction $ -\\kappa_\\nu(s)\\,I_\\nu \\,ds$. \n",
    "$\\kappa_\\nu(s)$ is called the linear absorption coefficient. Intensity will generally be *generated* independently of the incoming radiation, such that along the infinitesimal path length the intensity will increase by a constant amount $\\varepsilon_\\nu \\,ds$, where $\\varepsilon_\\nu $ the so-called emission coefficient. $\\kappa_\\nu$ and $\\varepsilon_\\nu$ may generally be functions of $I$. In the following we will assume that this is not the case. From above, we can write down the equation of radiative transfer"
   ]
  },
  {
   "cell_type": "markdown",
   "metadata": {},
   "source": [
    "<a id='science:eq:03_001'></a><!--\\label{science:eq:03_001}-->$$\n",
    "\\begin{align}\n",
    "    dI_\\nu \\,&= -\\kappa_\\nu\\,I_\\nu\\,ds+\\varepsilon_\\nu\\,ds\\\\\n",
    "    &\\Leftrightarrow\\\\\n",
    "    \\frac{dI_\\nu}{ds} \\,&= -\\kappa_\\nu\\,I_\\nu+\\varepsilon_\\nu\\qquad .\\\\\n",
    "\\end{align}\n",
    "$$"
   ]
  },
  {
   "cell_type": "markdown",
   "metadata": {},
   "source": [
    "The equation of radiative transfer has simple solutions for $\\kappa_\\nu\\,=\\,0$ or $\\varepsilon_\\nu\\,=\\,0$:"
   ]
  },
  {
   "cell_type": "markdown",
   "metadata": {},
   "source": [
    "<a id='science:eq:03_002'></a><!--\\label{science:eq:03_002}-->$$\n",
    "\\begin{align}\n",
    "     \\kappa_\\nu\\,&=\\,0 &\\Rightarrow\\quad& I_\\nu(s)\\,=\\,I_\\nu(s_0)+\\int_{s_0}^{s}\\varepsilon_\\nu(t)\\,dt\\\\\n",
    "     \\varepsilon_\\nu\\,&=\\,0 &\\Rightarrow\\quad& I_\\nu(s)\\,=\\,I_\\nu(s_0)\\,e^{-\\int_{s_0}^{s}\\kappa_\\nu(t)\\,dt}\\qquad .\\\\\n",
    "\\end{align}\n",
    "$$"
   ]
  },
  {
   "cell_type": "markdown",
   "metadata": {},
   "source": [
    "To proceed to the *general solution* of the equation of radiative transfer, one defines the optical depth $\\tau_\\nu$ via"
   ]
  },
  {
   "cell_type": "markdown",
   "metadata": {},
   "source": [
    "<a id='science:eq:03_003'></a><!--\\label{science:eq:03_003}-->$$\n",
    "\\begin{align}\n",
    "      d\\tau_\\nu\\,&\\underset{def}{=}\\,-\\kappa_\\nu\\,dt\\\\\n",
    "      &\\Rightarrow\\\\\n",
    "      \\tau_\\nu\\,&=\\,\\int_s^{s_0}\\kappa_\\nu(t)\\,dt\\qquad .\\\\\n",
    "\\end{align}\n",
    "$$"
   ]
  },
  {
   "cell_type": "markdown",
   "metadata": {},
   "source": [
    "The observer is at the position $s_0$, such that $\\tau_\\nu\\,=\\,0$ at the position of the observer. With that, one basically introduces a more relevant quantity than the actual path length as a parameter. Substituting via the chain rule"
   ]
  },
  {
   "cell_type": "markdown",
   "metadata": {},
   "source": [
    "<a id='science:eq:03_004'></a><!--\\label{science:eq:03_004}-->$$\n",
    "\\begin{align}\n",
    "    \\frac{dI_\\nu}{ds} \\,&= \\,\\frac{dI_\\nu}{d\\tau_\\nu}\\frac{d\\tau_\\nu}{ds}\\\\\n",
    "    &=\\, -\\kappa_\\nu\\frac{dI_\\nu}{d\\tau_\\nu}\\\\\n",
    "    &=\\, -\\kappa_\\nu\\,I_\\nu+\\varepsilon_\\nu\\qquad .\\\\\n",
    "\\end{align}\n",
    "$$"
   ]
  },
  {
   "cell_type": "markdown",
   "metadata": {
    "collapsed": true
   },
   "source": [
    "The figure below shows the radiative transport process in a pictorial form. "
   ]
  },
  {
   "cell_type": "code",
   "execution_count": 4,
   "metadata": {
    "collapsed": false
   },
   "outputs": [
    {
     "data": {
      "image/png": "[encoded data removed]",
      "text/plain": [
       "<IPython.core.display.Image object>"
      ]
     },
     "execution_count": 4,
     "metadata": {
      "image/png": {
       "width": 800
      }
     },
     "output_type": "execute_result"
    }
   ],
   "source": [
    "Image(filename='figures/radiative_transport.png', width=800)"
   ]
  },
  {
   "cell_type": "markdown",
   "metadata": {},
   "source": [
    "By defining the source function or efficiency $s_\\nu$ (unfortunately often the same symbol $S_\\nu$ as for the flux density is commonly used, which we avoid here)"
   ]
  },
  {
   "cell_type": "markdown",
   "metadata": {},
   "source": [
    "<a id='science:eq:03_005'></a><!--\\label{science:eq:03_005}-->$$\n",
    "\\begin{align}\n",
    "    s_\\nu\\,&\\underset{def}{=}\\,\\frac{\\varepsilon_\\nu}{\\tau_\\nu}\\\\\n",
    "\\end{align}\n",
    "$$"
   ]
  },
  {
   "cell_type": "markdown",
   "metadata": {},
   "source": [
    "we get"
   ]
  },
  {
   "cell_type": "markdown",
   "metadata": {},
   "source": [
    "<a id='science:eq:03_005'></a><!--\\label{science:eq:03_005}-->$$\n",
    "\\begin{align}\n",
    "    \\frac{dI_\\nu}{d\\tau_\\nu}\\,=\\,I_\\nu-s_\\nu\\qquad ,\n",
    "\\end{align}\n",
    "$$"
   ]
  },
  {
   "cell_type": "markdown",
   "metadata": {},
   "source": [
    "which can be solved via multiplication with $e^{-\\tau_\\nu}$ and integration"
   ]
  },
  {
   "cell_type": "markdown",
   "metadata": {},
   "source": [
    "<a id='science:eq:03_006'></a><!--\\label{science:eq:03_006}-->$$\n",
    "\\begin{align}\n",
    "    \\frac{d\\left(I_\\nu \\,e^{-\\tau_\\nu}\\right)}{d\\tau_\\nu}\\,&=\\,\\frac{dI_\\nu}{d\\tau_\\nu}\\,e^{-\\tau_\\nu}-I_\\nu\\,e^{-\\tau_\\nu}\\\\\n",
    "    &=\\,-s_\\nu\\,e^{-\\tau_nu}\\\\\n",
    "    &\\Rightarrow\\\\\n",
    "    \\int_0^{\\tau_\\nu(s)} \\frac{d\\left(I_\\nu \\,e^{-\\tau_\\nu}\\right)}{d\\tau_\\nu}\\,d\\tau_\\nu\\,&=\\,I_\\nu(\\tau_\\nu(s))\\,e^{-\\tau_nu(s)}-I_\\nu(0)e^{0}\\\\\n",
    "    &=\\,I_\\nu(\\tau_\\nu(s))\\,e^{-\\tau_nu(s)}-I_\\nu(0)\\\\\n",
    "    \\\\&=\\,-\\int_0^{\\tau_\\nu(s)}s_\\nu\\,e^{-\\tau_\\nu}\\,d\\tau_\\nu\\\\\n",
    "    &\\Leftrightarrow\\\\\n",
    "    I_\\nu(0)\\,&=\\, I_\\nu(s_0)\\\\\n",
    "    &=\\, I_\\nu\\left(\\tau_\\nu(s)\\right)\\,e^{-\\tau_\\nu(s)}+\\int_0^{\\tau_\\nu(s)}s_\\nu\\,e^{-\\tau_\\nu}\\,d\\tau_\\nu\n",
    "    \\qquad .\n",
    "\\end{align}\n",
    "$$"
   ]
  },
  {
   "cell_type": "markdown",
   "metadata": {},
   "source": [
    "In a local thermodynamical equilibrium (LTE) at local temperature $T$, the emissivity equals the absorbed radiation (Kirchhoff's Law), or"
   ]
  },
  {
   "cell_type": "markdown",
   "metadata": {},
   "source": [
    "<a id='science:eq:03_007'></a><!--\\label{science:eq:03_007}-->$$\n",
    "\\begin{align}\n",
    "    \\varepsilon_\\nu\\,&\\underset{LTE}{=}\\,\\kappa_\\nu\\,B(T)\\\\\n",
    "    s_\\nu\\,&=\\,B(T)\n",
    "    \\qquad ,\n",
    "\\end{align}\n",
    "$$"
   ]
  },
  {
   "cell_type": "markdown",
   "metadata": {},
   "source": [
    "where $B(T)$ is the radiation emitted by a black body of temperature $T$ ([see section 1.5.1 &#10142;](01_05_black_body_radiation.ipynb#science:sec:blackbody_emission) <!--\\ref{science:sec:blackbody_emission}--> ). "
   ]
  },
  {
   "cell_type": "markdown",
   "metadata": {},
   "source": [
    "local thermodynamical equilibrium the emissivity equals the absorbed radiation, and hence, starting at any position s,"
   ]
  },
  {
   "cell_type": "markdown",
   "metadata": {},
   "source": [
    "<a id='science:eq:03_008'></a><!--\\label{science:eq:03_008}-->$$\n",
    "\\begin{align}\n",
    "    I_\\nu(0)\\,&=\\, I_\\nu(s_0)\\\\\n",
    "    &=I_\\nu\\left(\\tau_\\nu(s)\\right)\\,e^{-\\tau_\\nu(s)}+\\int_0^{\\tau(s)}s_\\nu\\,e^{-\\tau_\\nu}\\,d\\tau_\\nu\\\\\n",
    "    &=I_\\nu\\left(\\tau_\\nu(s)\\right)\\,e^{-\\tau_\\nu(s)}+\\int_0^{\\tau(s)}B_\\nu(T)\\,e^{-\\tau_\\nu}\\,d\\tau_\\nu\n",
    "    \\qquad .\n",
    "\\end{align}\n",
    "$$"
   ]
  },
  {
   "cell_type": "markdown",
   "metadata": {},
   "source": [
    "If the temperature $T$ is constant, $B_\\nu(T)$ is constant, and"
   ]
  },
  {
   "cell_type": "markdown",
   "metadata": {},
   "source": [
    "<a id='science:eq:03_009'></a><!--\\label{science:eq:03_009}-->$$\n",
    "\\begin{align}\n",
    "    I_\\nu(0)\\,&=\\, I_\\nu(s_0)\\\\\n",
    "    &=I_\\nu\\left(\\tau_\\nu(s)\\right)\\,B_\\nu(T)\\,e^{-\\tau_\\nu(s)}+\\int_0^{\\tau(s)}B_\\nu(T)\\,e^{-\\tau_\\nu}\\,d\\tau_\\nu\\\\\n",
    "    &=I_\\nu\\left(\\tau_\\nu(s)\\right)\\,B_\\nu(T)\\,e^{-\\tau_\\nu(s)}+B_\\nu(T)\\left(1-e^{-\\tau_\\nu(s_0)}\\right) \\qquad.\n",
    "\\end{align}\n",
    "$$"
   ]
  },
  {
   "cell_type": "markdown",
   "metadata": {},
   "source": [
    "It is easy to see that for an opaque source"
   ]
  },
  {
   "cell_type": "markdown",
   "metadata": {},
   "source": [
    "<a id='science:eq:03_009'></a><!--\\label{science:eq:03_009}-->$$\n",
    "\\begin{align}\n",
    " \\tau(s) \\,&=\\, \\infty\\\\\n",
    " &\\Rightarrow\\\\\n",
    " I_\\nu(s_0) \\,&=\\, B_\\nu(T)\\qquad .\n",
    " \\end{align}\n",
    " $$"
   ]
  },
  {
   "cell_type": "markdown",
   "metadata": {},
   "source": [
    "Generally, if the source function is constant (substitute $B_\\nu$ for $S_\\nu$ for LTE)"
   ]
  },
  {
   "cell_type": "markdown",
   "metadata": {},
   "source": [
    "<a id='science:eq:03_010'></a><!--\\label{science:eq:03_010}-->$$\n",
    "\\begin{align}\n",
    "    s_\\nu \\,&=\\, s_\\nu^0 = const.\\\\\n",
    "    &\\Rightarrow\\\\\n",
    "    I_\\nu(0)\\,&=\\, I_\\nu(s_0)\\\\\n",
    "    &=I_\\nu\\left(\\tau_\\nu(s)\\right)\\,s_\\nu\\,e^{-\\tau_\\nu(s)}+\\int_0^{\\tau(s)}s_\\nu\\,e^{-\\tau_\\nu}\\,d\\tau_\\nu\\\\\n",
    "    &=I_\\nu\\left(\\tau_\\nu(s)\\right)\\,s_\\nu\\,e^{-\\tau_\\nu(s)}+s_\\nu\\left(1-e^{-\\tau_\\nu(s_0)}\\right) \\qquad.\n",
    "\\end{align}\n",
    "$$"
   ]
  },
  {
   "cell_type": "markdown",
   "metadata": {},
   "source": [
    "From this, it is easy to see that if all emission comes from a slab of material, which is optically thin"
   ]
  },
  {
   "cell_type": "markdown",
   "metadata": {},
   "source": [
    "<a id='science:eq:03_011'></a><!--\\label{science:eq:03_011}-->$$\n",
    "\\begin{align}\n",
    "    s_\\nu \\,&=\\, s_\\nu^0 = const.\\\\\n",
    "    I_\\nu(\\tau_\\nu(s)) \\,&=\\, 0\\\\\n",
    "    \\tau_\\nu(s) \\,&\\ll\\, 1\\\\\n",
    "    &\\Rightarrow\\\\\n",
    "    I_\\nu(0)\\,&=\\, I_\\nu(s_0)\\,=\\, s_\\nu^0\\,\\tau_\\nu(s)\\qquad ,\\\\\n",
    "\\end{align}\n",
    "$$"
   ]
  },
  {
   "cell_type": "markdown",
   "metadata": {},
   "source": [
    "which is proportional to $\\kappa_\\nu$ if also $\\kappa_\\nu$ is constant and that for a background source in the optically thin case"
   ]
  },
  {
   "cell_type": "markdown",
   "metadata": {},
   "source": [
    "<a id='science:eq:03_011'></a><!--\\label{science:eq:03_011}-->$$\n",
    "\\begin{align}\n",
    "    s_\\nu \\,&=\\, s_\\nu^0 = const.\\\\\n",
    "    I_\\nu(\\tau_\\nu(s)) \\,&\\neq\\, 0\\\\\n",
    "    \\tau_\\nu(s) \\,&\\ll\\, 1\\\\\n",
    "    &\\Rightarrow\\\\\n",
    "    I_\\nu(0)\\,&=\\, I_\\nu(s_0)\\,=\\, I_\\nu(\\tau(s))-\\tau_\\nu(s)(I_\\nu(\\tau(s))-s_\\nu^0)\\qquad .\\\\\n",
    "\\end{align}\n",
    "$$"
   ]
  },
  {
   "cell_type": "markdown",
   "metadata": {},
   "source": [
    "If in that case the background intensity $I_\\nu(\\tau(s))$ is larger than the source function $s_\\nu^0$, the emission gets reduced (absorption), if it is lower than the source function, we witness an increase in brightness (emission case). As the blackbody radiation is always larger for a larger temperature, we can say that absorption occurs if a background source of a certain temperature is obscured by an optically thin slab of gas of lower temperature, and that additional emission arises from the slab of gas if it has a higher temperature than the background source."
   ]
  },
  {
   "cell_type": "markdown",
   "metadata": {},
   "source": [
    "***\n",
    "\n",
    "* Next: [1.4 Radio regime](01_04_radio_regime.ipynb)"
   ]
  }
 ],
 "metadata": {
  "kernelspec": {
   "display_name": "Python 2",
   "language": "python",
   "name": "python2"
  },
  "language_info": {
   "codemirror_mode": {
    "name": "ipython",
    "version": 2
   },
   "file_extension": ".py",
   "mimetype": "text/x-python",
   "name": "python",
   "nbconvert_exporter": "python",
   "pygments_lexer": "ipython2",
   "version": "2.7.6"
  }
 },
 "nbformat": 4,
 "nbformat_minor": 0
}

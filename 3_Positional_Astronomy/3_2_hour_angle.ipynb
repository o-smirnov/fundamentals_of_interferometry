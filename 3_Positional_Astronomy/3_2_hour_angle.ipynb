{
 "cells": [
  {
   "cell_type": "markdown",
   "metadata": {},
   "source": [
    "***\n",
    "\n",
    "* [Outline](../0_Introduction/0_introduction.ipynb)\n",
    "* [Glossary](../0_Introduction/1_glossary.ipynb)\n",
    "* [3. Positional Astronomy](3_0_Introduction.ipynb)\n",
    "    * Previous: [3.1 Equatorial Coordinates (RA,DEC)](3_1_equatorial_coordinates.ipynb)\n",
    "    * Next: [3.3 Horizontal Coordinates (ALT,AZ)](3_3_horizontal_coordinates.ipynb) \n",
    "\n",
    "***"
   ]
  },
  {
   "cell_type": "markdown",
   "metadata": {},
   "source": [
    "Import standard modules:"
   ]
  },
  {
   "cell_type": "code",
   "execution_count": 2,
   "metadata": {
    "collapsed": false
   },
   "outputs": [
    {
     "data": {
      "text/html": [
       "<style>\n",
       "\n",
       "p.prerequisites {\n",
       "    border:5px;\n",
       "    border-style:none;\n",
       "    background-color:#F0F0F0;\n",
       "    box-shadow: 5px 5px 2px #888888;\n",
       "    border-color:#FF0000;\n",
       "    padding: 1em;\n",
       "    }\n",
       "\n",
       "p.conclusion {\n",
       "    border:5px;\n",
       "    border-style:none;\n",
       "    background-color:#c8ebca;\n",
       "    box-shadow: 5px 5px 2px #888888;\n",
       "    border-color:#c8ebca;\n",
       "    padding: 1em;\n",
       "    }\n",
       "\n",
       "div.warn {    \n",
       "    background-color: #fcf2f2;\n",
       "    border-color: #dFb5b4;\n",
       "    border-left: 5px solid #dfb5b4;\n",
       "    padding: 0.5em;\n",
       "    }\n",
       "\n",
       "div.advice {    \n",
       "    background-color: #ecf8ed;\n",
       "    border-color: #a2dda5;\n",
       "    border-left: 5px solid #a2dda5;\n",
       "    padding: 0.5em;\n",
       "    }\n",
       "\n",
       "</style>\n",
       "\n"
      ],
      "text/plain": [
       "<IPython.core.display.HTML object>"
      ]
     },
     "execution_count": 2,
     "metadata": {},
     "output_type": "execute_result"
    }
   ],
   "source": [
    "import numpy as np\n",
    "import matplotlib.pyplot as plt\n",
    "%matplotlib inline\n",
    "from IPython.display import HTML \n",
    "HTML('../style/course.css') #apply general CSS"
   ]
  },
  {
   "cell_type": "markdown",
   "metadata": {},
   "source": [
    "Import section specific modules:"
   ]
  },
  {
   "cell_type": "code",
   "execution_count": 3,
   "metadata": {
    "collapsed": false
   },
   "outputs": [
    {
     "name": "stdout",
     "output_type": "stream",
     "text": [
      "Populating the interactive namespace from numpy and matplotlib\n"
     ]
    },
    {
     "data": {
      "text/html": [
       "<script>\n",
       "    code_show=false; \n",
       "    function code_toggle() {\n",
       "        if (code_show){\n",
       "            $('div.input').hide();\n",
       "        } else {\n",
       "            $('div.input').show();\n",
       "        }\n",
       "        code_show = !code_show\n",
       "    } \n",
       "    $( document ).ready(code_toggle);\n",
       "</script>\n",
       "\n",
       "The raw code for this notebook is by default hidden for easier reading. To toggle on/off the raw code, click <a href=\"javascript:code_toggle()\">here</a>.\n",
       "\n"
      ],
      "text/plain": [
       "<IPython.core.display.HTML object>"
      ]
     },
     "execution_count": 3,
     "metadata": {},
     "output_type": "execute_result"
    }
   ],
   "source": [
    "from IPython.display import HTML\n",
    "import ephem\n",
    "import matplotlib\n",
    "%pylab inline\n",
    "pylab.rcParams['figure.figsize'] = (15, 10)\n",
    "import matplotlib\n",
    "HTML('../style/code_toggle.html')"
   ]
  },
  {
   "cell_type": "markdown",
   "metadata": {},
   "source": [
    "## 3.2 Hour Angle (HA) and Local Sidereal Time (LST) "
   ]
  },
  {
   "cell_type": "markdown",
   "metadata": {},
   "source": [
    "As we already mentioned in the chapter introduction, the static equatorial coordinates right ascension and declination are not enough if one wants to pin point the location of an object in the night sky from earth. We introduce two concepts here (namely hour angle and local sidereal time) which together with the static equatorial coordinates allow an observer to track celestial objects from earth.  "
   ]
  },
  {
   "cell_type": "markdown",
   "metadata": {},
   "source": [
    "### 3.2.1 Hour Angle (HA)<a id='pos:sec:ha'></a> <!--\\label{pos:sec:ha}-->"
   ]
  },
  {
   "cell_type": "markdown",
   "metadata": {},
   "source": [
    "*Zenith* is the position on the celestial sphere which lies directly above an observer on earth. *Nadir* is the position on the celestial sphere which lies directly below an observer on earth. The *local meridian* is the hour circle on the celestial sphere which we form when we connect the NCP with zenith. Celestial objects rise in the east reach their highest point when they cross the local meridian (we say they are at *transit*) and set in the west. \n",
    "<div class=advice>\n",
    "<b>Note:</b> The *hour angle* (denoted with $H$) of a celestial body is the angular distance (measured in hours) between the hour circle of a celestial object and the local meridian measured along the celestial equator in a westerly direction.\n",
    "</div><br>\n",
    "In other words, the hour angle is the time that still needs to pass before a celestial body is at transit if it is negative or the time since it was at transit if it is positive. We can therefore use it instead of right ascension as a celestial longitude to keep track of the stars as they move across the sky of an earth bound observer."
   ]
  },
  {
   "cell_type": "markdown",
   "metadata": {},
   "source": [
    "### 3.2.2 Local Sidereal Time (LST) <a id='pos:sec:lst'></a> <!--\\label{pos:sec:lst}-->"
   ]
  },
  {
   "cell_type": "markdown",
   "metadata": {},
   "source": [
    "Our wrist watches keep track of when the sun will be at transit. The solar time-keeping system we use ensures that our working day aligns with the rising and setting of the sun. Astronomers are however more intereseted in keeping track of the stars, since they want to observe them. They therefore use a sidereal time-keeping system to keep track of the vernal equinox (instead of the sun). <span style=\"background-color:cyan\">KT:XX: The switching between the Vernal Equinox and the First point of Aries might be a bit confusing - I would suggest that a single term is used here.</span> \n",
    "\n",
    "<div class=advice>\n",
    "<b>Note:</b> The hour angle of the first point of Aries is your <em>local sideral time</em>.\n",
    "</div><br>\n",
    "Once you know the time before or since the vernal equinox was at transit you can easily determine when any other star will be at transit. This is true, since there exists a simple relation between the hour angle of a celestial body and your local sidereal time which is given by: \n",
    "\n",
    "<p class=conclusion>\n",
    "  <font size=4> <b>Relation between HA, $\\alpha$ and LST</b></font>\n",
    "  <br>\n",
    "  <br>\n",
    "\\begin{equation}\n",
    "H = \\textrm{LST} - \\alpha.\n",
    "\\end{equation}\n",
    "</p><br>\n",
    "The above relation is presented graphically in [Fig. 3.2.1  &#10549;](#pos:fig:hour_angle) <!--\\ref{pos:fig:hour_angle}-->."
   ]
  },
  {
   "cell_type": "markdown",
   "metadata": {},
   "source": [
    "<a id='pos:fig:hour_angle'></a> <!--\\label{pos:fig:hour_angle}--> <img src='figures/hour.svg' width=40%> "
   ]
  },
  {
   "cell_type": "markdown",
   "metadata": {},
   "source": [
    "**Figure 3.2.1**: The relationship that exists between $\\alpha$, $H$ and LST. The red plane represents the fundamental plane of the celestial coordinate system. The\n",
    "the blue plane represent the fundamental plane of the horizontal coordinate system (see [$\\S$ 3.3 &#10142;](3_3_horizontal_coordinates.ipynb)). "
   ]
  },
  {
   "cell_type": "markdown",
   "metadata": {},
   "source": [
    "The natural question now arises, why do we need separate time-keeping systems to keep track of the stars and the sun? The answer is that a *sidereal day* is 4 minutes shorter than a *solar day*. A solar day is the time it takes for the sun to return to the same position in the sky, while a sidereal day is the amount of time it takes for an arbitrary star to return to the same location in the sky. We can explain the reason for this time difference with the aid of Fig. [Fig. 3.2.2  &#10549;](#pos:fig:sidereal) <!--\\ref{pos:fig:sidereal}-->. When the sun reappears at the same location in the sky (after 24 hours) it appears to have moved on the celestial sphere (it has moved relative to the background stars). The apparent movement of the sun on the celestial sphere is due to the fact that the earth needs to complete a little bit more than one full rotation for the sun to reappear at the same position in the sky. It needs a little bit more than one full rotation due to the fact that the earth orbits the sun. Since the background stars are much further away the earth only needs one full rotation (23 hours and 56 minutes) for an arbitrary star to reappear at the same position in the sky."
   ]
  },
  {
   "cell_type": "markdown",
   "metadata": {},
   "source": [
    "<a id='pos:fig:sidereal'></a> <!--\\label{pos:fig:sidereal}--><img src='figures/sidereal.svg' width=50%> "
   ]
  },
  {
   "cell_type": "markdown",
   "metadata": {},
   "source": [
    "**Figure 3.2.2**: Since the earth and sun rotate around each other on a yearly cycle the sidereal day is shorter than a solar day."
   ]
  },
  {
   "cell_type": "markdown",
   "metadata": {},
   "source": [
    "We are now in a position to attain a better understanding of what the vernal equinox physically represents. As discussed in the previous paragraph the sun appears to move on the celestial sphere (its right ascension and declination changes throughout the year). As mentioned in [$\\S$ 3.1 &#10142;](3_1_equatorial_coordinates.ipynb), the imaginary path it traverses on the celestial sphere is known as the ecliptic. The ecliptic is depicted in [Fig. 3.2.3  &#10549;](#pos:fig:radec) <!--\\ref{pos:fig:radec}-->. The vernal equinox is the point on the celestial sphere where the Sun crosses the celestial equator from south to north. The vernal equinox is currently in Pisces, but used to be in Aries. Which is why it is also known as the first point of Aries. It has moved due to precession. "
   ]
  },
  {
   "cell_type": "markdown",
   "metadata": {},
   "source": [
    "<a id='pos:fig:radec'></a> <!--\\label{pos:fig:radec}--><img src='figures/RADEC.svg' width=100%>"
   ]
  },
  {
   "cell_type": "markdown",
   "metadata": {},
   "source": [
    "**Figure 3.2.3**: The ecliptic is marked in yellow. The celestial equator is marked in blue. The stars that have the same color and are located near each other belong to the same constellation. The vernal equinox is the point where the ecliptic crosses the celestial equator from south to north. The twelve zodiac constellations are labelled in green. The ecliptic traverses through all twelve of these constellations (i.e. the sun passes through these twelve constellations during its yearly journey)."
   ]
  },
  {
   "cell_type": "markdown",
   "metadata": {},
   "source": [
    "### 3.2.3 Example <a id='pos:sec:lst_ex'></a> <!--\\label{pos:sec:lst_ex}-->"
   ]
  },
  {
   "cell_type": "markdown",
   "metadata": {},
   "source": [
    "In the previous section I mentioned that the sidereal day is 4 min shorter than the solar day. The gap between the local sidereal time and the solar time will steadily increase \n",
    "as the year passes, until the time between them amounts to a full day. When this \n",
    "happens the two clocks are aligned for a brief moment. The sidereal clock will then start to speed up again relative to the solar clock until another year has passed. We investigate this phenomenon below. We again make use of the `pyephem` package. We only use the `Observer` class in the code snippet below. An observer object has a date attribute to which a date time string in [<cite data-cite=''>UTC (Coordinated Universal Time)</cite> &#10548;](https://en.wikipedia.org/wiki/Coordinated_Universal_Time) can be assigned. One also needs to set the geographical coordinates of the observer object. In the example below we chose the geographical coordinates to be equal to the Jodrell Bank Observatory. The observer object then has a method called `sidereal_time` which can calculate the current sidereal time of the observer given the current time of the observer in UTC. We plot the local sidereal time of the observer at 23:59:59 UTC on the 22nd of each month for an entire year (2016) in [Fig. 3.2.4  &#10549;](#pos:fig:lst_utc) <!--\\ref{pos:fig:lst_utc}-->."
   ]
  },
  {
   "cell_type": "code",
   "execution_count": 4,
   "metadata": {
    "collapsed": false
   },
   "outputs": [
    {
     "data": {
      "image/png": "[encoded data removed]",
      "text/plain": [
       "<matplotlib.figure.Figure at 0x7f7f29344c10>"
      ]
     },
     "metadata": {},
     "output_type": "display_data"
    }
   ],
   "source": [
    "#Setting up the observer\n",
    "JB = ephem.Observer() \n",
    "JB.lat = '53:14:10'\n",
    "JB.lon = '-02:18:26'\n",
    "JB.elevation = 0.0\n",
    "\n",
    "months = [\"Jan\",\"Feb\",\"Mar\",\"Apr\",\"May\",\"Jun\",\"Jul\",\"Aug\",\"Sep\",\"Oct\",\"Nov\",\"Dec\"]\n",
    "h_number = np.zeros((14,),dtype=float)\n",
    "\n",
    "#Calculating the lst at differnt times of the year\n",
    "for k in xrange(1,14):\n",
    "    if k < 10:\n",
    "       JB.date = '2016/'+str(k)+'/22  23:59:59'\n",
    "       str_sid = str(JB.sidereal_time()).split(\":\")\n",
    "       h_number[k-1] = float(str_sid[0]) + float(str_sid[1])/60. + float(str_sid[2])/3600.\n",
    "    elif k > 10:\n",
    "       JB.date = '2016/'+str(k-1)+'/22  23:59:59'\n",
    "       str_sid = str(JB.sidereal_time()).split(\":\")\n",
    "       h_number[k-1] = float(str_sid[0]) + float(str_sid[1])/60. + float(str_sid[2])/3600 \n",
    "\n",
    "#Plot\n",
    "matplotlib.rcParams.update({'font.size': 13.75})\n",
    "\n",
    "fig, ax = plt.subplots()\n",
    "h_number[-1] = h_number[0]\n",
    "x = np.arange(14)\n",
    "x[9:] = x[9:]-1 \n",
    "\n",
    "ax.plot(x,h_number)\n",
    "\n",
    "ax.set_ylim([0,24])\n",
    "\n",
    "ticks = np.array([0,2,4,6,8,10,12,14,16,18,20,22,24])\n",
    "plt.yticks(ticks)\n",
    "\n",
    "labels = [item.get_text() for item in ax.get_xticklabels()]\n",
    "labels = np.array([\"Jan\",\"Mar\",\"May\",\"Jul\",\"Sep\",\"Nov\",\"Jan\"])\n",
    "ax.set_xticklabels(labels)\n",
    "\n",
    "labels = [item.get_text() for item in ax.get_yticklabels()]\n",
    "labels = np.array(['$0^h$','$2^h$','$4^h$','$6^h$','$8^h$','$10^h$','$12^h$','$14^h$','$16^h$','$18^h$','$20^h$','$22^h$','$24^h$'])\n",
    "ax.set_yticklabels(labels)\n",
    "\n",
    "plt.grid('on')"
   ]
  },
  {
   "cell_type": "markdown",
   "metadata": {},
   "source": [
    "**Figure 3.2.4**: The local sidereal time of the Jodrell Bank Observatory at 23:59:59 UTC on the 22nd of each month for 2016. Clearly the difference between the local sidereal time and the UTC time at the observatory steadily increases until somewhere in September when everything resets. The point at which everything resets is actually associated with a physical event. It is when the sun and the verneal equinox allign. <a id='pos:fig:lst_utc'></a> <!--\\label{pos:fig:lst_utc}-->"
   ]
  },
  {
   "cell_type": "markdown",
   "metadata": {},
   "source": [
    "***\n",
    "\n",
    "Next: [3.3 Horizontal Coordinates (ALT,AZ)](3_3_horizontal_coordinates.ipynb)"
   ]
  },
  {
   "cell_type": "markdown",
   "metadata": {},
   "source": []
  }
 ],
 "metadata": {
  "kernelspec": {
   "display_name": "Python 2",
   "language": "python",
   "name": "python2"
  },
  "language_info": {
   "codemirror_mode": {
    "name": "ipython",
    "version": 2
   },
   "file_extension": ".py",
   "mimetype": "text/x-python",
   "name": "python",
   "nbconvert_exporter": "python",
   "pygments_lexer": "ipython2",
   "version": "2.7.6"
  }
 },
 "nbformat": 4,
 "nbformat_minor": 0
}

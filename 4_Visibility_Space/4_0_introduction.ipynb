{
 "cells": [
  {
   "cell_type": "markdown",
   "metadata": {},
   "source": [
    "***\n",
    "<a id='beginning'></a> <!--label{beginning}-->\n",
    "   * [Outline](../0_Introduction/0_introduction.ipynb)\n",
    "   * [Glossary](../0_Introduction/1_glossary.ipynb)\n",
    "   * [4. The Visibility space](#)\n",
    "       * Previous Chapter: [3. Positional Astronomy](../3_Positional_Astronomy/3_0_introduction.ipynb)\n",
    "    \n",
    "       * Next: [4.1 Periodic Functions and Fourier Analysis](4_1_Periodic_Functions_and_Fourier_Analysis.ipynb)\n",
    "    \n",
    "***"
   ]
  },
  {
   "cell_type": "markdown",
   "metadata": {},
   "source": [
    "Import standard modules:"
   ]
  },
  {
   "cell_type": "code",
   "execution_count": 1,
   "metadata": {
    "collapsed": false
   },
   "outputs": [
    {
     "data": {
      "text/html": [
       "<style>\n",
       "\n",
       "p.prerequisites {\n",
       "    border:5px;\n",
       "    border-style:none;\n",
       "    background-color:#F0F0F0;\n",
       "    box-shadow: 5px 5px 2px #888888;\n",
       "    border-color:#FF0000;\n",
       "    padding: 1em;\n",
       "    }\n",
       "\n",
       "p.conclusion {\n",
       "    border:5px;\n",
       "    border-style:none;\n",
       "    background-color:#c8ebca;\n",
       "    box-shadow: 5px 5px 2px #888888;\n",
       "    border-color:#c8ebca;\n",
       "    padding: 1em;\n",
       "    }\n",
       "\n",
       "div.warn {    \n",
       "    background-color: #fcf2f2;\n",
       "    border-color: #dFb5b4;\n",
       "    border-left: 5px solid #dfb5b4;\n",
       "    padding: 0.5em;\n",
       "    }\n",
       "\n",
       "div.advice {    \n",
       "    background-color: #ecf8ed;\n",
       "    border-color: #a2dda5;\n",
       "    border-left: 5px solid #a2dda5;\n",
       "    padding: 0.5em;\n",
       "    }\n",
       "\n",
       "</style>\n",
       "\n"
      ],
      "text/plain": [
       "<IPython.core.display.HTML object>"
      ]
     },
     "execution_count": 1,
     "metadata": {},
     "output_type": "execute_result"
    }
   ],
   "source": [
    "import numpy as np\n",
    "import matplotlib.pyplot as plt\n",
    "%matplotlib inline\n",
    "from IPython.display import HTML\n",
    "HTML('../style/course.css') #apply general CSS"
   ]
  },
  {
   "cell_type": "markdown",
   "metadata": {},
   "source": [
    "Import section specific modules:"
   ]
  },
  {
   "cell_type": "markdown",
   "metadata": {},
   "source": [
    "# Chapter 4: The Visibility Space<a id='visibility:sec:intro'></a>"
   ]
  },
  {
   "cell_type": "markdown",
   "metadata": {},
   "source": [
    "An interferometric array consists of a collection of individual elements, each pair of elements is cross-correlated to make a baseline measurement. Interferometry is a powerful technique as it enables to indirectly and accurately measure astrometric positions of components of the sky as well as giving information on their spatial structure. Using aperture synthesis, one can perform synthesis imaging from these measurements.\n",
    "\n",
    "In this chapter, we define the quantities that are measured by an interferometer and how it relates to the derivation of some knowledge of the sky.\n",
    "The questions we want to address in this chapter are\n",
    "\n",
    "  * What is interfering in radio interferometry?,\n",
    "  * How can I determine what quantity I measure with a baseline in an interferometer?,\n",
    "  * how the interferometric measurements can inform about the structure of the observed sky?\n",
    "    \n",
    "    \n",
    "Before addressing these questions, we will spend some time in [$\\\\S$ 4.1 &#10142;](4_1_Periodic_Functions_and_Fourier_Analysis.ipynb) discussing the relationship between the image plane and the Fourier plane: this is the theoretical framework underpinning interferometry. Then, in [$\\\\S$ 4.2 &#10142;](4_1_The_Baseline.ipynb), we will define the *baseline* - the link between theoretical framework and practical framework - and its representation in various reference frames, preferably in a convenient frame related to the sky.\n",
    "\n",
    "The notion of baseline is necessary to adequately describe the 2-element interferometer, as done in [$\\\\S$ 4.3 &#10142;](4_3_The_2-element_Interferometer.ipynb). This simple interferometer can be seen as a tool that samples the visibility function [$\\\\S$ 4.4 &#10142;](4_4_The_Visibility_Function.ipynb), which is associated with the intensity distribution of the sky. Depending on the location of the interferometer on Earth, this function can be probed along $uv$ tracks defined in [$\\\\S$ 4.5.1 &#10142;](4_5_1_UV_Coverage_UV_Tracks.ipynb). In [$\\\\S$ 4.5.2 &#10142;](4_5_2_UV_Coverage_Improving_Your_Coverage.ipynb), we investigate how the $uv$ coverage of an interferometric array can be enriched to better sample the visibility function.\n",
    "\n",
    "\n",
    "In the final section [$\\\\S$ 4.6 &#10142;](4_6_The_Fourier_Approximation_VanCittert-Zernike_Theorem.ipynb), we describe the van Cittert-Zernike theorem, which, using certain approximations, links the intensity distribution of the sky to the interfemetric measurements by a Fourier relationship. Based on this relationship, imaging by aperture synthesis becomes possible."
   ]
  },
  {
   "cell_type": "markdown",
   "metadata": {},
   "source": [
    "#### Chapter Outline\n",
    "\n",
    "1. [Periodic Functions and Fourier Analysis](4_1_Periodic_Functions_and_Fourier_Analysis.ipynb)\n",
    "2. [The Baseline and Its Representation in Space](4_2_The_Baseline.ipynb)\n",
    "3. [The 2-element Interferometer](4_3_The_2-element_Interferometer.ipynb)\n",
    "4. [The Visibility Function](4_4_The_Visibility_Function.ipynb)\n",
    "5. UV Coverage\n",
    "    1. [UV Tracks](4_5_1_UV_Coverage_UV_Tracks.ipynb)\n",
    "    2. [Improving Your Coverage](4_5_2_UV_Coverage_Improving_Your_Coverage.ipynb)\n",
    "6. [The Van Cittert-Zernike Theorem](4_6_The_Fourier_Approximation_VanCittert-Zernike_Theorem.ipynb)\n",
    "7. [Further Reading and References](4_x_further_reading_and_references.ipynb)"
   ]
  },
  {
   "cell_type": "markdown",
   "metadata": {},
   "source": [
    "#### Chapter Editors\n",
    "\n",
    "* Landman Bester\n",
    "* Griffin Foster\n",
    "* Trienko Grobler\n",
    "* Modhurita Mitra"
   ]
  },
  {
   "cell_type": "markdown",
   "metadata": {},
   "source": [
    "#### Chapter Contributors"
   ]
  },
  {
   "cell_type": "markdown",
   "metadata": {},
   "source": [
    "* Julien Girard (**4.0**, **4.1**, **4.2**, **4.3**, **4.4**, **4.5**)\n",
    "* Etienne Bonnassieux (**4.0**, **4.1**, **4.2**, **4.3**, **4.4**, **4.5**)"
   ]
  },
  {
   "cell_type": "markdown",
   "metadata": {},
   "source": [
    "#### Format status:\n",
    "* <span style=\"background-color:red\">&nbsp;&nbsp;&nbsp;&nbsp;</span> : LF: Date\n",
    "* <span style=\"background-color:red\">&nbsp;&nbsp;&nbsp;&nbsp;</span> : NC: Date\n",
    "* <span style=\"background-color:red\">&nbsp;&nbsp;&nbsp;&nbsp;</span> : RF: Date\n",
    "* <span style=\"background-color:red\">&nbsp;&nbsp;&nbsp;&nbsp;</span> : HF: Date\n",
    "* <span style=\"background-color:red\">&nbsp;&nbsp;&nbsp;&nbsp;</span> : GM: Date\n",
    "* <span style=\"background-color:red\">&nbsp;&nbsp;&nbsp;&nbsp;</span> : CC: Date\n",
    "* <span style=\"background-color:red\">&nbsp;&nbsp;&nbsp;&nbsp;</span> : CL: Date\n",
    "* <span style=\"background-color:red\">&nbsp;&nbsp;&nbsp;&nbsp;</span> : ST: Date\n",
    "* <span style=\"background-color:red\">&nbsp;&nbsp;&nbsp;&nbsp;</span> : FN: Date\n",
    "* <span style=\"background-color:red\">&nbsp;&nbsp;&nbsp;&nbsp;</span> : TC: Date\n",
    "* <span style=\"background-color:red\">&nbsp;&nbsp;&nbsp;&nbsp;</span> : XX: Date"
   ]
  }
 ],
 "metadata": {
  "kernelspec": {
   "display_name": "Python 2",
   "language": "python",
   "name": "python2"
  },
  "language_info": {
   "codemirror_mode": {
    "name": "ipython",
    "version": 2
   },
   "file_extension": ".py",
   "mimetype": "text/x-python",
   "name": "python",
   "nbconvert_exporter": "python",
   "pygments_lexer": "ipython2",
   "version": "2.7.3"
  }
 },
 "nbformat": 4,
 "nbformat_minor": 0
}

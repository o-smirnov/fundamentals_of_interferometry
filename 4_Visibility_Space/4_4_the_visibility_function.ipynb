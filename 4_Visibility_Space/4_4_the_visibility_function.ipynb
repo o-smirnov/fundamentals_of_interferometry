{
 "cells": [
  {
   "cell_type": "markdown",
   "metadata": {},
   "source": [
    "***\n",
    "<a id='beginning'></a> <!--\\label{beginning}-->\n",
    "* [Outline](../0_Introduction/0_introduction.ipynb)\n",
    "* [Glossary](../0_Introduction/1_glossary.ipynb)\n",
    "* [4. The Visibility space](4_0_introduction.ipynb)\n",
    "    * Previous: [4.3 The 2-Element Interferometer](4_3_The_2-element_Interferometer.ipynb)\n",
    "    * Next: [4.5.1 UV Coverage: UV Tracks](4_5_1_UV_Coverage_UV_Tracks.ipynb)\n",
    "\n",
    "***"
   ]
  },
  {
   "cell_type": "code",
   "execution_count": null,
   "metadata": {
    "collapsed": false
   },
   "outputs": [],
   "source": [
    "import numpy as np\n",
    "import matplotlib.pyplot as plt\n",
    "%matplotlib inline\n",
    "from IPython.display import HTML \n",
    "HTML('../style/course.css') #apply general CSS"
   ]
  },
  {
   "cell_type": "code",
   "execution_count": null,
   "metadata": {
    "collapsed": false
   },
   "outputs": [],
   "source": [
    "HTML('../style/code_toggle.html')"
   ]
  },
  {
   "cell_type": "markdown",
   "metadata": {},
   "source": [
    "***"
   ]
  },
  {
   "cell_type": "markdown",
   "metadata": {},
   "source": [
    "## 4.4 The Visibility Function"
   ]
  },
  {
   "cell_type": "markdown",
   "metadata": {},
   "source": [
    "So far, we've treated each individual measured visibility as a single measurement. Assuming a slowly and continuously rotating sky above the interferometer, we can turn the set of measured visibilities from different baselines into a set of samples of an underlying *continuous* visibility function $\\mathcal{V}$. Under certain assumptions, we will see how this visibility function is related to the Fourier transform (FT) of the sky brightness distribution."
   ]
  },
  {
   "cell_type": "markdown",
   "metadata": {},
   "source": [
    "Based on what we have defined in [$\\S$ 4.3 &#10142;](4_3_The_2-element_Interferometer.ipynb), we will focus on the visibility function, which is a caracteristic of the sky as seen through an interferometer. It is related to the contrast in the fringe pattern created by the combination of signals received by the antennas on each baseline."
   ]
  },
  {
   "cell_type": "markdown",
   "metadata": {},
   "source": [
    "### 4.4.1 Mathematical definition of the complex visibility\n"
   ]
  },
  {
   "cell_type": "markdown",
   "metadata": {},
   "source": [
    "#### 4.4.1.A specific intensity / surface brigthness"
   ]
  },
  {
   "cell_type": "markdown",
   "metadata": {},
   "source": [
    "As seen in [$\\S$ 1.2 &#10142;](../1_Radio_Science/01_02_electromagnetic_radiation_and_astronomical_quantities.ipynb), the *specific intensity* $I_\\nu$ (or the *surface brightness*) is defined as the received power per unit solid angle, per unit frequency interval, per unit collecting area:\n",
    "$$ dP_{\\nu} = I_{\\nu} d\\Omega d\\nu d A_{\\text{eff}} $$\n",
    "where $dP_{\\nu}$ is in units of W and $I_{\\nu}$ is in units of W m$^{-2}$ sr$^{-1}$ Hz$^{-1}$.\n",
    "\n",
    "In the integrated form, the received power $P_{\\text{rec}}$ from a source with flux density $S$ over the bandwidth $\\Delta \\nu$, flowing through a collecting area $A$ is:\n",
    "$$P_{\\text{rec}}=\\frac{1}{2} A S \\Delta \\nu$$\n",
    "\n"
   ]
  },
  {
   "cell_type": "markdown",
   "metadata": {},
   "source": [
    "At a location $\\boldsymbol{\\sigma}$ from the phase center $\\mathbf{s_0}$, the region of the sky defined by $d\\Omega$ will contribute to the received power over bandwidth $\\Delta \\nu$ and collecting surface $A_{\\text{eff}}$ as:\n",
    "$$dP(\\boldsymbol{\\sigma})= \\frac{1}{2} A_{\\text{eff}}(\\boldsymbol{\\sigma})I_\\nu(\\boldsymbol{\\sigma})\\Delta\\nu d\\Omega$$"
   ]
  },
  {
   "cell_type": "markdown",
   "metadata": {},
   "source": [
    "<div class=advice>\n",
    "<b>Recall the definitions:</b><br>\n",
    "\n",
    "- Flux density : $S_{\\nu} = \\int I_{\\nu} d\\Omega$ in Jansky (Jy)<br> \n",
    "- Flux : F=$\\int_{\\Delta \\nu} \\int_\\Omega I_\\nu d \\Omega d\\nu$ in W m$^{-2}$<br>\n",
    "- Received power:  P= $\\int_{A_\\text{eff}}\\int_{\\nu} \\int_\\Omega I_\\nu d \\Omega d\\nu d A_{\\text{eff}}$ in W<br>\n",
    "where $\\Omega$ is the solid angle subtended by the source in steradians (sr).\n",
    "</div>"
   ]
  },
  {
   "cell_type": "markdown",
   "metadata": {},
   "source": [
    "<div class=warn>\n",
    "<b>Warning:</b> The specific intensity $I_{\\nu}$ does not vary while the signal propagates in vacuum, and is thus independent of the distance to the source. However, the flux density $S_{\\nu}$ varies with the distance, with an $r^{-2}$ dependency.</div>\n"
   ]
  },
  {
   "cell_type": "markdown",
   "metadata": {},
   "source": [
    "<div class=warn>\n",
    "<b>Warning:</b> The $\\frac{1}{2}$ coefficient accounts for the fact that most antenna feeds are polarized (either circularly or linearly) and therefore only sensitive to half of the power of an unpolarized source. If the source is fully polarised in the same direction as the antenna, the antenna will measure the full power.</div>"
   ]
  },
  {
   "cell_type": "markdown",
   "metadata": {},
   "source": [
    "In the previous section, we have seen that the quantity measured by an interferometer is the sum of the contributions from different parts of the sky within the solid angle $\\Omega$. The complex visibility includes the measurements of both the *odd* part and the *even* part of the specific intensity $I_\\nu$, as seen through spatial filters (which are a function of the projected baseline) and modulated by the antenna response (assumedto be  identical for all receivers so far):\n",
    "\n",
    "$$\\boxed{\\boxed{\\mathcal{ V_{\\mathbf{b}} } = \\int_{\\Omega} A_\\text{eff}(\\boldsymbol{\\sigma})I_\\nu(\\boldsymbol{\\sigma}) e^{-\\imath 2\\pi \\frac{\\textbf{b}\\cdot \\boldsymbol{\\sigma}}{\\lambda}} d\\Omega}}$$\n",
    "\n",
    "We will use an expression of the visibility where the effective area has been normalized, so that $\\mathcal{V}_{\\mathbf{b}}$ has dimensions of flux density:"
   ]
  },
  {
   "cell_type": "markdown",
   "metadata": {},
   "source": [
    "<a id=\"eq:431\"></a>\n",
    "$$\\boxed{\\boxed{\\mathcal{ V_{\\mathbf{b}} } = \\int_{\\Omega}I_\\nu(\\boldsymbol{\\sigma}) e^{-\\imath 2\\pi \\frac{\\textbf{b}\\cdot \\boldsymbol{\\sigma}}{\\lambda}} d\\Omega}} \\text{ in Jy}$$"
   ]
  },
  {
   "cell_type": "markdown",
   "metadata": {},
   "source": [
    "#### 4.4.1.B Expression of the fringe pattern\n"
   ]
  },
  {
   "cell_type": "markdown",
   "metadata": {},
   "source": [
    "In [$\\S$ 4.2 &#10142;](../4_Visibility_Space/4_2_The_Baseline.ipynb), we defined various coordinates systems to represent the baseline in a sky-friendly reference frame. We will now use them to have an explicit expression of the visibility $\\mathcal{V}_{\\mathbf{b}}$.\n",
    "\n",
    "\n",
    "$\\boldsymbol{\\sigma}$ is the direction difference vector defined as $\\boldsymbol{\\sigma}= \\mathbf{s} - \\mathbf{s_0}$.\n",
    "\n",
    "In ($u$,$v$,$w$)-coordinates, $\\mathbf{s_0}$ defineS the $w$ direction. Therefore:\n",
    "\n",
    "\\begin{eqnarray}\n",
    "\\mathbf{s_0}&=&\n",
    "\\begin{pmatrix}\n",
    "0 \\\\\n",
    "0 \\\\\n",
    "1 \\\\\n",
    "\\end{pmatrix}\n",
    "\\end{eqnarray}\n",
    "\n",
    "\\begin{eqnarray}\n",
    "\\mathbf{\\boldsymbol{\\sigma}} \n",
    "&=&\n",
    "\\begin{pmatrix}\n",
    "l \\\\\n",
    "m \\\\\n",
    "n \\\\\n",
    "\\end{pmatrix}\n",
    "\\end{eqnarray}\n",
    "\n",
    "\\begin{eqnarray}\n",
    "\\mathbf{b}_{\\lambda} \n",
    "&=&\n",
    "\\mathbf{ \\frac{\\mathbf{b}}{\\lambda}}\n",
    "=\n",
    "\\begin{pmatrix}\n",
    "u \\\\\n",
    "v \\\\\n",
    "w \\\\\n",
    "\\end{pmatrix}\n",
    "\\end{eqnarray}\n"
   ]
  },
  {
   "cell_type": "markdown",
   "metadata": {},
   "source": [
    "The scalar product $\\mathbf{b} \\cdot \\boldsymbol{\\sigma}$ in Eq. [1 &#10549;](#eq:431) can be expressed as a function of ($u$,$v$,$w$) and ($l$,$m$,$n$) as follows:"
   ]
  },
  {
   "cell_type": "markdown",
   "metadata": {},
   "source": [
    "\n",
    "$$ \\mathbf{b_\\lambda} \\cdot \\boldsymbol{\\sigma}= ul + vm + (n-1)w $$"
   ]
  },
  {
   "cell_type": "markdown",
   "metadata": {},
   "source": [
    "We will now express $d\\Omega$ from Eq. [1 &#10549;](#eq:431) in term of ($l$,$m$,$n$) coordinates. $d\\Omega$ describes an element of solid angle on the celestial sphere.\n",
    "As $d \\Omega = d\\theta \\sin \\theta d\\phi$, we may also express the surface element in terms of ($l$,$m$,$n$). By using the Jacobian determinant, we end up with:\n",
    "\n",
    "$$d \\Omega = \\frac{dl dm}{n} = \\frac{dl dm}{\\sqrt{1 - l^2 - m^2}}$$"
   ]
  },
  {
   "cell_type": "markdown",
   "metadata": {},
   "source": [
    "<a id=\"eq:432\"></a>\n",
    "$$\\boxed{\\boxed{\\mathcal{ V }(u,v,w) = \\int_{-\\infty}^{\\infty}\\int_{-\\infty}^{\\infty} A(l,m)I_\\nu(l,m) \\exp \\left[ {-\\imath 2\\pi (ul+vm+w(\\sqrt{1-l^2-m^2}-1)) }\\right] \\frac{dl dm}{\\sqrt{1 - l^2 - m^2}}}}$$"
   ]
  },
  {
   "cell_type": "markdown",
   "metadata": {},
   "source": [
    "<div class=warn>\n",
    "<b>Warning:</b> The bounds of the integral can be infinite, since we know that the integrand in bounded ($A$ and $I_\\nu$ are null when $l^2+m^2 \\geq 1$).</div>"
   ]
  },
  {
   "cell_type": "markdown",
   "metadata": {},
   "source": [
    "If the following conditions are met:\n",
    "\n",
    "- the field of view $\\Omega$ is small\n",
    "- the beam pattern $A(l,m)$ goes quickly to zero\n",
    "- the source are grouped close to the phase center at (l=0,m=0)\n",
    "- w is small\n",
    "\n",
    "i.e.  $l,m << 1$\n",
    "then we can take simplify the expression of $\\mathcal{V}$ by keeping the first order development of the argument of the exponential:\n",
    "\n",
    "$w(\\sqrt{1-l^2-m^2}-1) \\sim -\\frac{1}{2}(l^2+m^2) \\sim \\mathcal{O}(l,m) $\n",
    "\n",
    "The integral becomes:\n",
    "\n",
    "<a id=\"eq:433\"></a>\n",
    "$$ \\mathcal{V}(u,v,w \\sim 0) = \\int_{-\\infty}^{\\infty} \\int_{-\\infty}^{\\infty} \\frac{A(l,m) I_\\nu (l,m)}{\\sqrt{1 - l^2 - m^2}}  e^{ -\\imath 2\\pi (ul+vm)}dl dm$$\n"
   ]
  },
  {
   "cell_type": "markdown",
   "metadata": {},
   "source": [
    "#### 4.4.1.C Link with the Fourier Transform"
   ]
  },
  {
   "cell_type": "markdown",
   "metadata": {},
   "source": [
    "The Eq. [3 &#10549;](#eq:433) is no longer a function of $w$, and it now takes the shape of a 2-D Fourier transform (see [$\\S$ 2.4 &#10142;](../2_Mathematical_Groundwork/2_4_the_fourier_transform.ipynb)) with (u,v) being the Fourier pairs of (l,m).\n",
    "\n",
    "The inverse transform can be written:\n",
    "\n",
    "$$ \\frac{A(l,m) I_\\nu(l,m)}{\\sqrt{1 - l^2 - m^2}} = \\int_{-\\infty}^{\\infty} \\int_{-\\infty}^{\\infty} \\mathcal{V}(u,v) e^{ +\\imath 2\\pi (ul+vm)}du dv$$\n",
    "\n",
    "$$ \\mathcal{V}(u,v) \\sim \\mathscr{F} \\{I_\\nu \\}(u,v) $$\n",
    "\n",
    "We will come back to the consequences of this form later, in [$\\S$ 4.6 &#10142;](../4_Visibility_Space/4_6_The_Fourier_Approximation_VanCittert-Zernike_Theorem.ipynb)"
   ]
  },
  {
   "cell_type": "markdown",
   "metadata": {},
   "source": [
    "### 4.4.2 Understanding the visibility function"
   ]
  },
  {
   "cell_type": "markdown",
   "metadata": {},
   "source": [
    "####  4.4.2.A Representations of the visibility function"
   ]
  },
  {
   "cell_type": "markdown",
   "metadata": {},
   "source": [
    "The Fourier relationship existing between $I_\\nu$ and $\\mathcal{V}$ is key, as it is the latter that is sampled by the interferometer. We remember that the interferometer is not sensitive to the sky but to the FT of the sky.\n",
    "To recover some knowledge of the sky through $\\mathcal{V}$, one needs to understand the general shape of the visibility function.\n",
    "We will treat it as a continuous complex function.\n",
    "\n",
    "$\\mathcal{V}$ is a 2D function lying in the Fourier space. At a time $t$ and frequency $\\nu$, one baseline and one direction $\\mathbf{s_0}$ will provide a unique ($u$,$v$) point in the fourier space, which corresponds to one sample of the complex visibility function.\n",
    "\n",
    "In the earlier days of interferometry, only few samples where available and the inspection of the samples in a 2D plane was unpractical. We usually inspect the amplitude of the visibility samples as a function of the *uv distance* $r_{uv}$ defined:\n",
    "\n",
    "$$ r_{uv} = \\sqrt{u^2+v^2}$$\n",
    "\n",
    "\n",
    "Instead of exploiting the FT properties linking the visibility function to the brightness distribution, we will simply compute this integral numerically on a simple case. The FT will be more extensively used in [$\\S$ 5.1 &#10142;](../5_Imaging/5_1_spatial_frequencies.ipynb) for imaging."
   ]
  },
  {
   "cell_type": "markdown",
   "metadata": {},
   "source": [
    "#### Interpretation of the integral as spatial filtering"
   ]
  },
  {
   "cell_type": "markdown",
   "metadata": {},
   "source": [
    "The visibility is expressed as the integral of the product of the intensity distribution with a complex exponential which is called the *Fourier kernel*.\n",
    "\n",
    "Using a vector definition of the intensity distribution as a function of direction, this integral can be interpreted as the scalar product between the intensity distribution vector $\\mathbf{I_\\nu}$, and the Fourier basis kernel function $\\mathbf{f}_{u,v}^{l,m}$:\n",
    "\n",
    "$$ \\mathcal{V}= \\langle \\mathbf{I_\\nu} \\cdot \\mathbf{f}_{u,v}^{l,m}\\rangle$$ with $\\mathbf{f}_{u,v}^{l,m}= e^{-2j\\pi (ul+vm)}$\n",
    "\n",
    "This can be seen as the projection of $\\mathbf{I_\\nu}$ on the basis vector $\\mathbf{f}_{u,v}^{l,m}$. The complex visibility of the baseline with ($u$,$v$) coordinates, is therefore the coefficient of the intensity distribution projected on the basis Fourier vector of frequency ($u$,$v$). This operation therefore filters the magnitude of spatial frequency ($u$,$v$) contained in the intensity distribution.\n",
    "\n",
    "The Fourier vector can be seen as a fringe pattern projected on the sky (Fig. [4.4.1 &#10549;](#fig:431)), through which the content of the sky is seen."
   ]
  },
  {
   "cell_type": "markdown",
   "metadata": {},
   "source": [
    "<a id=\"fig:431\"></a>\n",
    "<img src='figures/uvfreq.svg' width=30%>"
   ]
  },
  {
   "cell_type": "markdown",
   "metadata": {},
   "source": [
    "**Figure 4.4.1**: a single spatial frequency located at ($u$,$v$) and its associated fringe pattern on the sky."
   ]
  },
  {
   "cell_type": "markdown",
   "metadata": {},
   "source": [
    "For a 2-element interferometer, observing a sky which can locally be approximated as a plane, we can link the *physical* baseline $\\mathbf{b}$, the *projected* baseline $\\mathbf{b_\\text{proj}}$ in the ($u$, $v$, $w$) frame, the *phase center* $\\mathbf{s_0}$ and a direction of observation $\\mathbf{\\sigma}$ in the ($l$, $m$, $n$) frame (Fig. [4.4.2 &#10549;](#fig:432))."
   ]
  },
  {
   "cell_type": "markdown",
   "metadata": {},
   "source": [
    "<a id=\"fig:432\"></a>\n",
    "<img src='figures/spatialfiltering.png' width=70%>"
   ]
  },
  {
   "cell_type": "markdown",
   "metadata": {},
   "source": [
    "**Figure 4.4.2**: Relationship between the projected baseline, the ($u$,$v$,$w$) space and the ($l$,$m$,$n$) space."
   ]
  },
  {
   "cell_type": "markdown",
   "metadata": {},
   "source": [
    "From Eq. [3 &#10549;](#eq:433), for a single projected baseline with coordinates ($u$,$v$,$w$), the value of the visibility function $\\mathcal{V}(u,v,w)$ is the sum of all contributions from the observed the field of view ($dldm$) coming from the direction $\\boldsymbol{\\sigma}(l,m)$. If the sky is filled with sources with complex structures, the shape of the visibility function as a function of ($u$,$v$,$w$) can be hard to interpret and some modelling is required."
   ]
  },
  {
   "cell_type": "markdown",
   "metadata": {},
   "source": [
    "##### 4.4.2.B Using the visibility: shape of the source"
   ]
  },
  {
   "cell_type": "markdown",
   "metadata": {},
   "source": [
    "Consider a 2-element interferometer projecting a baseline ($u$,$v=0$,$w=0$) associated with a set of fringes along the $m$ axis (for simplification). This is possible with a East-West baseline (see [$\\S$  4.5.1 &#10142;](4_5_1_UV_Coverage_UV_Tracks.ipynb)). \n",
    "\n",
    "We assume that the sky is only composed of a single extended source represented by a disk of unit brightness. For simplificity, this interferometer will observe this source at the phase center and during the transit.\n",
    "\n",
    "We assume that this is the only source the interferometer sees in the sky, that the effect of the antenna pattern is negligible and that $w=0$.\n",
    "\n",
    "The integral of Eq. [3 &#10549;](#eq:433) therefore reduces to computing the integral of the fringe pattern over the source:\n",
    "$$ \\mathcal{V} = \\int_{\\text{disk}} e^{-2j\\pi ul}dl$$\n"
   ]
  },
  {
   "cell_type": "code",
   "execution_count": null,
   "metadata": {
    "collapsed": false
   },
   "outputs": [],
   "source": [
    "# 1 East-West baseline observing a disk at the phase center\n",
    "from matplotlib.patches import Circle\n",
    "def plotfringe(u=4,rad=0.2):\n",
    "    global radius\n",
    "    radius=rad\n",
    "    # preparing (l,m,n) space\n",
    "    Npointsl=1001\n",
    "    ll=np.linspace(-1.,1.,Npointsl)\n",
    "    l,m=np.meshgrid(ll,ll)\n",
    "\n",
    "    # Definition of the disk\n",
    "    #radius=0.1234 # angular radius of the object in l,m coordinates\n",
    "\n",
    "    # projected baseline length on the u axis\n",
    "    #u=4\n",
    "\n",
    "    # generate fringe pattern\n",
    "    tabcos=np.real(np.exp(-2j*np.pi*u*l))\n",
    "\n",
    "    # plotting the fringe pattern and the source\n",
    "    pxrad=radius*Npointsl/2\n",
    "    circle=Circle((500,500),pxrad,color='r',alpha=0.5,fill=True)\n",
    "    fig,ax =plt.subplots(figsize=(6,6))\n",
    "    im=plt.imshow(np.abs(tabcos),interpolation=None,cmap=\"winter\")\n",
    "    ax.add_patch(circle)\n",
    "    #center=l[(Npoints-1)/2,(Npoints-1)/2]\n",
    "\n",
    "    # Compute the absolute value of the integral of the fringe over the source\n",
    "    w=np.where(np.sqrt(l**2+m**2) <= radius)\n",
    "    integral=np.sum(tabcos[w])\n",
    "    print \"Integral=\"+str(integral)\n",
    "\n"
   ]
  },
  {
   "cell_type": "code",
   "execution_count": null,
   "metadata": {
    "collapsed": false
   },
   "outputs": [],
   "source": [
    "plotfringe(u=2,rad=0.2)"
   ]
  },
  {
   "cell_type": "markdown",
   "metadata": {},
   "source": [
    "<a id=\"fig:433\"></a>\n",
    "**Figure 4.4.3**: Sky composed of an extended source (red disk) as seen through a fringe pattern with depends on the projected baseline of coordinate ($u$,0,0)."
   ]
  },
  {
   "cell_type": "markdown",
   "metadata": {},
   "source": [
    "In Fig. [4.4.3 &#10549;](#fig:433), the source is represented by the red disk over which we superimposed the fringe pattern. We see that an uneven fraction of the bright fringes cross the source. In this case, the resulting integral is positive. Let's try to increase the projected baseline size by increasing the value of $u$."
   ]
  },
  {
   "cell_type": "code",
   "execution_count": null,
   "metadata": {
    "collapsed": false
   },
   "outputs": [],
   "source": [
    "plotfringe(u=5,rad=0.2)"
   ]
  },
  {
   "cell_type": "markdown",
   "metadata": {},
   "source": [
    "<a id=\"fig:434\"></a>\n",
    "**Figure 4.4.4**: Same as in Fig. [4.4.3 &#10549;](#fig:433) seen through a different fringe pattern with a longer projected baseline."
   ]
  },
  {
   "cell_type": "markdown",
   "metadata": {},
   "source": [
    "In Fig. [4.4.4 &#10549;](#fig:434), the absolute value of the integral is $\\sim$10 times lower than before, suggesting a more balanced contribution of dark and bright fringes to the integral (which is still slightly dominated by the dark fringes).\n",
    "\n",
    "We can understand that, as the width of the fringes decreases, the integral will ultimately statistically converge towards 0. Indeed, the probability of evenly covering the source with the same fraction of bright and dark fringes increases.\n",
    "\n",
    "Let's focus on the variation of the absolute value of the integral, as a function of increasing $u$."
   ]
  },
  {
   "cell_type": "code",
   "execution_count": null,
   "metadata": {
    "collapsed": false
   },
   "outputs": [],
   "source": [
    "def plotintegral(UMAX=15):\n",
    "    %matplotlib inline\n",
    "    global u\n",
    "    from matplotlib.patches import Circle\n",
    "\n",
    "    #UMAX=5. # adjust it to larger values if no zeroes is encountered in next plot\n",
    "\n",
    "    Npointsl=1001\n",
    "    Npointsu=500\n",
    "    ll=np.linspace(-1.,1.,Npointsl)\n",
    "    l,m=np.meshgrid(ll,ll)\n",
    "    u=np.arange(Npointsu)*UMAX*1./Npointsu\n",
    "    w=np.where(np.sqrt(l**2+m**2) <= radius)\n",
    "    \n",
    "    integral=np.array([])\n",
    "    for du in u:\n",
    "        tabcos=np.real(np.exp(2j*np.pi*du*l))\n",
    "        integral=np.append(integral,np.abs(np.sum(tabcos[w])))\n",
    "\n",
    "    normintegral=integral/np.max(integral)\n",
    "    plt.xlabel('Spatial frequency u')\n",
    "    plt.ylabel('Normalized integral over source')\n",
    "    plt.plot(u,normintegral,\".-\")\n",
    "    return normintegral\n"
   ]
  },
  {
   "cell_type": "code",
   "execution_count": null,
   "metadata": {
    "collapsed": false
   },
   "outputs": [],
   "source": [
    "integral=plotintegral(UMAX=25.)"
   ]
  },
  {
   "cell_type": "markdown",
   "metadata": {},
   "source": [
    "<a id=\"fig:435\"></a>\n",
    "**Figure 4.4.5**: This plot represents the value of the integral over the source for varying values of the spatial frequency $u$."
   ]
  },
  {
   "cell_type": "markdown",
   "metadata": {},
   "source": [
    "In Fig. [4.4.5 &#10549;](#fig:435), from $u=0$ to $u=25$, we can notice that the integral is close to zero at specific values of $u$ (denoted $u_\\text{min}^{(n)}$). This corresponds to the fringe spacing where the integral of the source over the dark fringes is equal to the integral over the bright fringes.\n",
    "\n",
    "Namely, when\n",
    "\n",
    "$$ \\int_{\\text{bright }\\cap\\text{ source}} e^{-2j\\pi ul}dl \\approx \\int_{\\text{dark }\\cap\\text{ source}} e^{-2j\\pi ul}dl$$\n",
    "\n",
    "A null in the integral (i.e. of the visibility function) corresponds to the case where the contrast of the fringe (over the source) is zero. In this particular case, we say that the source is *resolved*.\n",
    "The first value $u_\\text{min}^{(1)}$, where the integral is minimum, has therefore a strong relationship with the geometry of the source we are observing.\n",
    "\n",
    "Let's determine an approximate value $u_\\text{min}^{(1)}$."
   ]
  },
  {
   "cell_type": "code",
   "execution_count": null,
   "metadata": {
    "collapsed": false
   },
   "outputs": [],
   "source": [
    "def findumin(normintegral,ulim=5):############\n",
    "    # Adjust ulim to search for the first minimum of the integral\n",
    "    # \n",
    "    #ulim=5 # should be an value larger than the first minimum\n",
    "    wloc=np.where(u <= ulim)\n",
    "    ############\n",
    "\n",
    "    locmin=np.where(normintegral[0:wloc[0][-1]] == np.min(normintegral[0:wloc[0][-1]]))\n",
    "    print \"Index first minimum = \"+str(locmin[0][0])\n",
    "    print \"Normalized integral value at first min = \"+str(normintegral[locmin][0])\n",
    "    print \"Spatial frequency at first min = \"+str(u[locmin][0])\n",
    "\n",
    "    umin=u[locmin][0]\n",
    "\n",
    "    deltal=1.22/(2*umin) # Bessel function :  J1(3.83)=0=J1(2*pi*f*r)\n",
    "    print\n",
    "    print \"Spatial scale at first min = \"+str(deltal)\n",
    "    print \"True object radius = \"+str(radius)"
   ]
  },
  {
   "cell_type": "code",
   "execution_count": null,
   "metadata": {
    "collapsed": false
   },
   "outputs": [],
   "source": [
    "findumin(integral,ulim=5)"
   ]
  },
  {
   "cell_type": "markdown",
   "metadata": {
    "collapsed": false
   },
   "source": [
    "We identified the value of $u_\\text{min}^{1}$ to be 3.05.\n",
    "As the object is a disk, its visibility function will be described by the first order Bessel function $\\mathcal{J}_1$.\n",
    "We know that $\\mathcal{J}_1(2\\pi u_\\text{min}^{1} l)=\\mathcal{J}_1(3.8317) \\approx 0$.\n",
    "We encounter a first null when:\n",
    "\n",
    "\\begin{eqnarray}\n",
    "2 \\pi u l &\\approx& 3.8317 \\\\\n",
    "l&\\approx&\\frac{1.22}{2 u_\\text{min}^{1}} \\\\\n",
    "l&\\approx&0.2\n",
    "\\end{eqnarray}\n",
    "\n",
    "As we set in this example, the *true* object radius in unit of $l$ was 0.2."
   ]
  },
  {
   "cell_type": "markdown",
   "metadata": {
    "collapsed": false
   },
   "source": [
    "With this small example, we performed the measurement of the radius of an object along the projected baseline. If you were observing a remote star with a sufficiently good system and a relatively long baseline at a short wavelength, it would be possible to measure the radius of this star, without any imaging processing.\n",
    "\n",
    "This example illustrates how interferometrists were (and still are!) able to resolve far-away objects with high angular resolution by combining the signals from low-angular resolutions instruments.\n",
    "\n",
    "Let's move on to use of the visibility to determine the location of the source.\n",
    "\n",
    "For more study of the shape of the source from the visibility, please refer to [<cite data-cite='1966raas.book.....K'>Kraus, $\\S$6-27</cite> &#10548;](http://adsabs.harvard.edu/abs/1966raas.book.....K)\n",
    "and\n",
    "[<cite data-cite='1999ASPC..180.....T'>Taylor, $\\S$ 16, p.338</cite> &#10548;](http://adsabs.harvard.edu/abs/1999ASPC..180.....T)."
   ]
  },
  {
   "cell_type": "markdown",
   "metadata": {},
   "source": [
    "##### 4.4.2.C Using the visibility: location of the source"
   ]
  },
  {
   "cell_type": "markdown",
   "metadata": {},
   "source": [
    "##### 4.4.2.C.1 Transiting source of unknown RA/DEC"
   ]
  },
  {
   "cell_type": "markdown",
   "metadata": {},
   "source": [
    "In order to reduce the bandwidth's impact on the fringe (recall that it causes the fringe pattern to be modulated by an sinc), the interferometer compensates for the delay $\\tau$ by inserting a supplementary delay $\\tau_c$ resulting in the shifting of center of the fringe pattern in the sky to follow the direction of the phase center. What happens if we remove this tracking and point the phase centre towards the zenith? Well, we get a meridian transit interferometer.\n",
    "\n",
    "For this example, we assume a single point source of unknown RA/DEC coordinates. We want to use the measurement of the interferometer to accurately determine its coordinates. We also assume that the field of view of the antenna elements is sufficiently large to vary smoothly accross the observation. We point the antennas toward the local meridian ($H=0^\\text{h}$). The transit interferometer will project a fringe pattern on the sky which will be modulated by the beam pattern as the source cross the array factor and the element pattern.\n",
    "\n",
    "A source on the celestial sphere will cross the projected fringe pattern and will create a variation in the interferometer response as a function of the Local Standard Time (LST) (Fig. [4.4.6 &#10549;](#fig:436) in green) as the source passes bright and dark fringes."
   ]
  },
  {
   "cell_type": "markdown",
   "metadata": {},
   "source": [
    "<a id=\"fig:436\"></a>\n",
    "<img src='figures/fringes.svg' width=50%>"
   ]
  },
  {
   "cell_type": "markdown",
   "metadata": {},
   "source": [
    "**Figure 4.4.6**: Derivation of the fringe rate and the transit time."
   ]
  },
  {
   "cell_type": "markdown",
   "metadata": {},
   "source": [
    "#### Estimating of the Right Ascension ($\\alpha$)\n",
    "\n",
    "The Right Ascension can be determined if the transit time can be measured with high accuracy. The transit time can be derived from the maximum of the fringe enveloppe, corresponding to the maximum elevation of the source combined to the maximum of the response of the antennas pointing at the local meridian.\n",
    "The transit time correspond to the moment when the LST is equal to the RA (according to [$\\S$ 3.2 &#10142;](../3_Positional_Astronomy/3_2_Hour_Angle.ipynb)). In our example, the RA is $\\sim$$13^\\text{h}07^\\text{m}$."
   ]
  },
  {
   "cell_type": "markdown",
   "metadata": {},
   "source": [
    "#### Estimating of the Declination ($\\delta$)\n",
    "\n",
    "To estimate the declination, we need to measure the fringe spacing and the fringe rate of the source using the rotation of the Earth.\n",
    "- We define the *fringe spacing* $\\Delta l_f$, the angular distance on the sky corresponding to one spatial period of the fringe pattern projected on the sky. This spacing is given by $\\Delta l_f \\sim \\frac{\\lambda}{|\\mathbf{b}|}$. In our example, we had a $\\frac{\\lambda}{|\\mathbf{b}|}$ of $\\Delta l_f \\sim \\frac{1}{2864}\\text{ rad}=0.02\\text{ rad}\\approx1.14^\\circ$.\n",
    "\n",
    "\n",
    "- We define the *fringe rate* $\\frac{d\\phi}{d\\theta}$, the speed of oscillation of the fringe as the source crosses the fringe pattern. We will deduce the time required by the source to cross one spatial period of the fringe pattern.\n",
    "\n",
    "\n",
    "On Fig. [4.4.6 &#10549;](#fig:436), we estimate the fringe spacing to be $\\sim$12 min ($\\sim$ 5 periods are crossed in 1h of observation).\n",
    "\n",
    "For a source located on the celestial equator ($\\delta =0^\\circ$), it will travel 15$^\\circ$ per hour and a certain number of fringe spacings that we need to compute. \n",
    "Since we know the fringe spacing, we can derive the fringe rate at the equator with $\\frac{d\\phi}{d\\theta}\\Bigr|_\\text{eq}=\\frac{\\Delta l_f}{15^\\circ \\text{per h}} \\approx 0.77 h \\approx 4^\\text{m}33^\\text{s}$.\n",
    "\n",
    "Conversely, a source close to the NCP ($\\delta \\sim 90^\\circ$) will have a very small fringe spacing and fringe rate.\n",
    "\n",
    "To estimate the declination of the source, we need to compare the fringe rate at the equator to the one measured on the fringe pattern of Fig. [4.4.6 &#10549;](#fig:436).\n",
    "\n",
    "$\\cos \\delta= \\frac{d\\phi}{d\\theta}\\Bigr|_\\text{eq} /  \\frac{d\\phi}{d\\theta}\\Bigr|_\\text{mes}=\\frac{4^\\text{m}33^\\text{s}}{12^\\text{m}}=0.3825 \\leftrightarrow \\delta \\approx 67.7^\\circ$.\n",
    "\n"
   ]
  },
  {
   "cell_type": "markdown",
   "metadata": {},
   "source": [
    "##### 4.4.2.C.2 Fringe rate mapping"
   ]
  },
  {
   "cell_type": "markdown",
   "metadata": {},
   "source": [
    "A technique known as *fringe rate mapping* (see [<cite data-cite='1996ASPC..101..175K'>Kogan, 1996</cite> &#10548;](http://adsabs.harvard.edu/full/1996ASPC..101..175K) and [<cite data-cite='1996ASPC..101..175K'>Walker, 1981</cite> &#10548;](http://adsabs.harvard.edu/full/1981AJ.....86.1323W)) exploits the information of the fringe rate offset compared to that at the phase center.\n",
    "In a two-dimensional reference frame, the fringe rate offset can be written as:\n",
    "\n",
    "<a id=\"eq:434\"></a>\n",
    "$$ \\omega_{\\text{frm}}= 2\\pi (\\frac{du}{dt}l+\\frac{dv}{dt}m)$$\n",
    "\n",
    "where ($u$,$v$) are the coordinates of the projected baseline and ($l$,$m$) the direction cosine coordinates from the phase center.\n"
   ]
  },
  {
   "cell_type": "markdown",
   "metadata": {},
   "source": [
    "By setting $m=f(l)$, Eq. [4 &#10549;](#eq:434) becomes a linear function: $y=ax+b$\n",
    "\n",
    "Each baseline produces a set of fringes on the sky with different fringe spacing and orientation. This set of fringes rotates on the sky (due to the rotation of the baseline as seen from the source) and each source will modulate the visibility depending on its distance to the phase center. More distant sources will have a faster fringe rate contribution to the visibilities than sources close to the phase center.\n",
    "\n",
    "##### One source\n",
    "If the sky is composed of only one source at an unknown position, the visibility amplitude will have a periodic behavior at a given the fringe rate (see previous example).\n",
    "\n",
    "If we can measure the periodic behavior in the visibility plane as a function of time (i.e. measuring $\\frac{du}{dt}$ and $\\frac{dv}{dt}$), then we can draw the straight line of equation$m=f(l)$, giving all possible locii in the sky where the source can produce the same observed fringe rate.\n",
    "\n",
    "If we have a second baseline, and thus a different measure of variation of the visibility as a function of time, we can derive a different ($\\frac{du}{dt}$,$\\frac{dv}{dt}$) parameter. This will give us another straight line. \n",
    "\n",
    "The intersection of these lines (equivalent to solving an equation with two unknowns $l$,$m$) will give the location of the source responsible for the variation on the two different baseline.\n",
    "\n",
    "##### Multiple sources\n",
    "If we have multiple bright sources, one must study the spectrum of the variation of the visibility and search for the various distribution of peaks (each giving values of $\\frac{du}{dt}$ and$\\frac{dv}{dt}$). By taking the FFT of each visibility as a function of time we can derive as many lines as we have detected peaks, per baseline.\n",
    "\n",
    "Ultimately, the collection of all straight line equations will produce intersections in the $(l,m)$ plane. These correspond to dominant sources in the field - without having to perform any imaging!"
   ]
  },
  {
   "cell_type": "markdown",
   "metadata": {},
   "source": [
    "<div class=warn>\n",
    "<b>Warning:</b> A lot of work can also be done using only on the visibility phase. This is the main research topic for precise (and VLBI) astrometry. Keen readers are strongly encouraged to look up [<cite data-cite='2001isra.book.....T'>Thompson, Moran and Swenson, $\\S$12, p.467</cite> &#10548;](http://adsabs.harvard.edu/abs/2001isra.book.....T).</div>"
   ]
  },
  {
   "cell_type": "markdown",
   "metadata": {},
   "source": [
    "### Conclusion"
   ]
  },
  {
   "cell_type": "markdown",
   "metadata": {},
   "source": [
    "Having described the properties of the visibility function, we will address the sampling of the visibility function. To this end, we will focus on the variation of our measured ($u$,$v$,$w$) frequencies as a function of instrumental and observational parameters."
   ]
  },
  {
   "cell_type": "markdown",
   "metadata": {},
   "source": [
    "We have shown how a baseline can be expressed a 3-D reference frame, and will next discuss how that baseline can projected down to 2-D. Imagine being on the celestial sphere, looking down on to the baseline distribution. From this fra,e, the baselines look projected to a 2-D plane. Later in the chapter we will discuss the [Van Cittert-Zernike Theorem &#10142;](4_6_The_Fourier_Approximation_VanCittert-Zernike_Theorem.ipynb) which allows us to construct an image of the sky from an approximate 2-D Fourier transform between the baseline visibility sampling and the sky. There are many caveats to this theorem, which will be discussed in good time. For now, the important thing to understand is: for a given point on the celestial sphere, the 3-D baselines can be projected onto a 2-D plane, and as the Earth rotates (and the Celestial sphere stays fixed), this changes the projection of each baseline. This change in projection is key to the practice of radio interferometric observation, and will come up again later when we discuss [*uv* coverage &#10142;](4_5_1_UV_Coverage_UV_Tracks.ipynb)."
   ]
  },
  {
   "cell_type": "markdown",
   "metadata": {},
   "source": [
    "<p class=conclusion>\n",
    "  <font size=4><b>Important things to remember</b></font>\n",
    "  <br>\n",
    "  \n",
    "&bull; The visibility function reduces to the <b>2D Fourier transform</b> of the intensity distribution under simplyfing assuptions.<br>\n",
    "&bull; The visibility integral at ($u$,$v$) can be seen as an operator which returns the <b>coefficient of the spatial frequency</b> ($u$,$v$).<br>\n",
    "&bull; By studying the properties of this integral, one can derive the <b>angular size and position</b> of a source without imaging.\n",
    "</p>"
   ]
  },
  {
   "cell_type": "markdown",
   "metadata": {
    "collapsed": true
   },
   "source": [
    "***\n",
    "\n",
    "* Next: [4.5.1 UV Coverage: UV Tracks](4_5_1_UV_Coverage_UV_Tracks.ipynb)"
   ]
  }
 ],
 "metadata": {
  "kernelspec": {
   "display_name": "Python 2",
   "language": "python",
   "name": "python2"
  },
  "language_info": {
   "codemirror_mode": {
    "name": "ipython",
    "version": 2
   },
   "file_extension": ".py",
   "mimetype": "text/x-python",
   "name": "python",
   "nbconvert_exporter": "python",
   "pygments_lexer": "ipython2",
   "version": "2.7.6"
  }
 },
 "nbformat": 4,
 "nbformat_minor": 0
}
